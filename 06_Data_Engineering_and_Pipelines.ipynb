{
  "nbformat": 4,
  "nbformat_minor": 0,
  "metadata": {
    "colab": {
      "provenance": [],
      "authorship_tag": "ABX9TyOO+++7SCLqdnslBOeFjAP/",
      "include_colab_link": true
    },
    "kernelspec": {
      "name": "python3",
      "display_name": "Python 3"
    },
    "language_info": {
      "name": "python"
    }
  },
  "cells": [
    {
      "cell_type": "markdown",
      "metadata": {
        "id": "view-in-github",
        "colab_type": "text"
      },
      "source": [
        "<a href=\"https://colab.research.google.com/github/noctxrne/ICT-Notes/blob/main/Data_Engineering_and_Pipelines.ipynb\" target=\"_parent\"><img src=\"https://colab.research.google.com/assets/colab-badge.svg\" alt=\"Open In Colab\"/></a>"
      ]
    },
    {
      "cell_type": "code",
      "execution_count": null,
      "metadata": {
        "id": "0-GPiBwJV6h2",
        "colab": {
          "base_uri": "https://localhost:8080/"
        },
        "outputId": "11718abc-a082-4d41-8c4e-30b8ea3561d8"
      },
      "outputs": [
        {
          "output_type": "stream",
          "name": "stdout",
          "text": [
            "<class 'pandas.core.frame.DataFrame'>\n",
            "RangeIndex: 150 entries, 0 to 149\n",
            "Data columns (total 5 columns):\n",
            " #   Column        Non-Null Count  Dtype  \n",
            "---  ------        --------------  -----  \n",
            " 0   sepal_length  144 non-null    float64\n",
            " 1   sepal_width   146 non-null    float64\n",
            " 2   petal_length  144 non-null    float64\n",
            " 3   petal_width   148 non-null    float64\n",
            " 4   species       143 non-null    object \n",
            "dtypes: float64(4), object(1)\n",
            "memory usage: 6.0+ KB\n",
            "None\n",
            "   sepal_length  sepal_width  petal_length  petal_width species\n",
            "0           NaN          3.5           1.4          0.2  setosa\n",
            "1           4.9          3.0           1.4          0.2  setosa\n",
            "2           4.7          NaN           1.3          0.2     NaN\n",
            "3           4.6          3.1           1.5          0.2  setosa\n",
            "4           5.0          3.6           1.4          0.2  setosa\n"
          ]
        }
      ],
      "source": [
        "import pandas as pd\n",
        "\n",
        "#Load dataset\n",
        "data= pd.read_csv(\"/content/UpdatedMissing_irisexcel (1) (1)  - irisexcel (1) (1).csv\")\n",
        "\n",
        "#Check for issues\n",
        "print(data.info())\n",
        "print(data.head())"
      ]
    },
    {
      "cell_type": "code",
      "source": [
        "#Remove duplicates\n",
        "data =data.drop_duplicates()\n",
        "\n",
        "#Handling missing values (if any)\n",
        "data=data.fillna(method=\"ffill\")\n",
        "\n",
        "print(\"Cleaned dataset shape:\",data.shape)\n",
        "print(data.head())"
      ],
      "metadata": {
        "colab": {
          "base_uri": "https://localhost:8080/"
        },
        "id": "j4oE5gNEd3Mz",
        "outputId": "1d4d8265-cf6e-4f4c-9133-e44e96c6713a"
      },
      "execution_count": null,
      "outputs": [
        {
          "output_type": "stream",
          "name": "stdout",
          "text": [
            "Cleaned dataset shape: (150, 5)\n",
            "   sepal_length  sepal_width  petal_length  petal_width species\n",
            "0           NaN          3.5           1.4          0.2  setosa\n",
            "1           4.9          3.0           1.4          0.2  setosa\n",
            "2           4.7          3.0           1.3          0.2  setosa\n",
            "3           4.6          3.1           1.5          0.2  setosa\n",
            "4           5.0          3.6           1.4          0.2  setosa\n"
          ]
        },
        {
          "output_type": "stream",
          "name": "stderr",
          "text": [
            "/tmp/ipython-input-3592649794.py:5: FutureWarning: DataFrame.fillna with 'method' is deprecated and will raise in a future version. Use obj.ffill() or obj.bfill() instead.\n",
            "  data=data.fillna(method=\"ffill\")\n"
          ]
        }
      ]
    },
    {
      "cell_type": "code",
      "source": [
        "!pip install schedule"
      ],
      "metadata": {
        "colab": {
          "base_uri": "https://localhost:8080/"
        },
        "id": "8UcAxP-nynBW",
        "outputId": "b275fc9f-1c80-473d-a67b-1f691e99fda9"
      },
      "execution_count": null,
      "outputs": [
        {
          "output_type": "stream",
          "name": "stdout",
          "text": [
            "Requirement already satisfied: schedule in /usr/local/lib/python3.12/dist-packages (1.2.2)\n"
          ]
        }
      ]
    },
    {
      "cell_type": "code",
      "source": [
        "import schedule\n",
        "import time\n",
        "import pandas as pd\n",
        "def pipeline():\n",
        "  data=pd.read_csv(\"/content/irisexcel (1) (1).csv\")\n",
        "  data=data.drop_duplicates()\n",
        "  data=data.fillna(method=\"ffill\")\n",
        "  print(\"Rows: \",len(data))\n",
        "  print(\"Mean values:\\n\",data.mean(numeric_only=True))\n",
        "\n",
        "schedule.every(0.10).minutes.do(pipeline)\n",
        "\n",
        "while(True):\n",
        "  schedule.run_pending()\n",
        "  time.sleep(1)"
      ],
      "metadata": {
        "colab": {
          "base_uri": "https://localhost:8080/",
          "height": 1000
        },
        "id": "oAqR1Su0fATX",
        "outputId": "cde1da6f-882c-47e2-9c02-5293a4823fb0"
      },
      "execution_count": null,
      "outputs": [
        {
          "output_type": "stream",
          "name": "stderr",
          "text": [
            "/tmp/ipython-input-33816926.py:7: FutureWarning: DataFrame.fillna with 'method' is deprecated and will raise in a future version. Use obj.ffill() or obj.bfill() instead.\n",
            "  data=data.fillna(method=\"ffill\")\n"
          ]
        },
        {
          "output_type": "stream",
          "name": "stdout",
          "text": [
            "Rows:  147\n",
            "Mean values:\n",
            " sepal_length    5.856463\n",
            "sepal_width     3.055782\n",
            "petal_length    3.780272\n",
            "petal_width     1.208844\n",
            "dtype: float64\n"
          ]
        },
        {
          "output_type": "stream",
          "name": "stderr",
          "text": [
            "/tmp/ipython-input-33816926.py:7: FutureWarning: DataFrame.fillna with 'method' is deprecated and will raise in a future version. Use obj.ffill() or obj.bfill() instead.\n",
            "  data=data.fillna(method=\"ffill\")\n"
          ]
        },
        {
          "output_type": "stream",
          "name": "stdout",
          "text": [
            "Rows:  147\n",
            "Mean values:\n",
            " sepal_length    5.856463\n",
            "sepal_width     3.055782\n",
            "petal_length    3.780272\n",
            "petal_width     1.208844\n",
            "dtype: float64\n"
          ]
        },
        {
          "output_type": "stream",
          "name": "stderr",
          "text": [
            "/tmp/ipython-input-33816926.py:7: FutureWarning: DataFrame.fillna with 'method' is deprecated and will raise in a future version. Use obj.ffill() or obj.bfill() instead.\n",
            "  data=data.fillna(method=\"ffill\")\n"
          ]
        },
        {
          "output_type": "stream",
          "name": "stdout",
          "text": [
            "Rows:  147\n",
            "Mean values:\n",
            " sepal_length    5.856463\n",
            "sepal_width     3.055782\n",
            "petal_length    3.780272\n",
            "petal_width     1.208844\n",
            "dtype: float64\n"
          ]
        },
        {
          "output_type": "stream",
          "name": "stderr",
          "text": [
            "/tmp/ipython-input-33816926.py:7: FutureWarning: DataFrame.fillna with 'method' is deprecated and will raise in a future version. Use obj.ffill() or obj.bfill() instead.\n",
            "  data=data.fillna(method=\"ffill\")\n"
          ]
        },
        {
          "output_type": "stream",
          "name": "stdout",
          "text": [
            "Rows:  147\n",
            "Mean values:\n",
            " sepal_length    5.856463\n",
            "sepal_width     3.055782\n",
            "petal_length    3.780272\n",
            "petal_width     1.208844\n",
            "dtype: float64\n"
          ]
        },
        {
          "output_type": "stream",
          "name": "stderr",
          "text": [
            "/tmp/ipython-input-33816926.py:7: FutureWarning: DataFrame.fillna with 'method' is deprecated and will raise in a future version. Use obj.ffill() or obj.bfill() instead.\n",
            "  data=data.fillna(method=\"ffill\")\n"
          ]
        },
        {
          "output_type": "stream",
          "name": "stdout",
          "text": [
            "Rows:  147\n",
            "Mean values:\n",
            " sepal_length    5.856463\n",
            "sepal_width     3.055782\n",
            "petal_length    3.780272\n",
            "petal_width     1.208844\n",
            "dtype: float64\n"
          ]
        },
        {
          "output_type": "error",
          "ename": "KeyboardInterrupt",
          "evalue": "",
          "traceback": [
            "\u001b[0;31m---------------------------------------------------------------------------\u001b[0m",
            "\u001b[0;31mKeyboardInterrupt\u001b[0m                         Traceback (most recent call last)",
            "\u001b[0;32m/tmp/ipython-input-33816926.py\u001b[0m in \u001b[0;36m<cell line: 0>\u001b[0;34m()\u001b[0m\n\u001b[1;32m     13\u001b[0m \u001b[0;32mwhile\u001b[0m\u001b[0;34m(\u001b[0m\u001b[0;32mTrue\u001b[0m\u001b[0;34m)\u001b[0m\u001b[0;34m:\u001b[0m\u001b[0;34m\u001b[0m\u001b[0;34m\u001b[0m\u001b[0m\n\u001b[1;32m     14\u001b[0m   \u001b[0mschedule\u001b[0m\u001b[0;34m.\u001b[0m\u001b[0mrun_pending\u001b[0m\u001b[0;34m(\u001b[0m\u001b[0;34m)\u001b[0m\u001b[0;34m\u001b[0m\u001b[0;34m\u001b[0m\u001b[0m\n\u001b[0;32m---> 15\u001b[0;31m   \u001b[0mtime\u001b[0m\u001b[0;34m.\u001b[0m\u001b[0msleep\u001b[0m\u001b[0;34m(\u001b[0m\u001b[0;36m1\u001b[0m\u001b[0;34m)\u001b[0m\u001b[0;34m\u001b[0m\u001b[0;34m\u001b[0m\u001b[0m\n\u001b[0m",
            "\u001b[0;31mKeyboardInterrupt\u001b[0m: "
          ]
        }
      ]
    },
    {
      "cell_type": "code",
      "source": [
        "import pandas as pd\n",
        "import random\n",
        "\n",
        "names=[\"Alice\",\"Bob\",\"Charlie\",\"Diana\",\"Eric\",\"Farah\",\"George\",\"Helen\",\"Ian\",\"Jenny\"]\n",
        "departments=[\"Computer Science\",\"Electronics\",\"Mechanical\",\"Civil\"]\n",
        "data=[]\n",
        "for i in range(1,21):\n",
        "  record={\n",
        "      'student_id':i,\n",
        "      'name':random.choice(names),\n",
        "      'age':random.choice([20,21,22,23,None]),\n",
        "      'department':random.choice(departments+['Electronics']),\n",
        "      'marks':random.randint(50,100),\n",
        "      'attendance':random.choice([random.randint(70,100),None])\n",
        "  }\n",
        "  data.append(record)\n",
        "\n",
        "df=pd.DataFrame(data)\n",
        "\n",
        "#Save\n",
        "df.to_csv(\"Students_random.csv\",index=True)\n",
        "print(\"Random dirty saved as student_random.csv\")\n",
        "print(df.head(10))"
      ],
      "metadata": {
        "id": "qAo6UqiL-bVB"
      },
      "execution_count": null,
      "outputs": []
    },
    {
      "cell_type": "code",
      "source": [
        "df=pd.read_csv('Students_random.csv')\n",
        "\n",
        "print('original dirty data')\n",
        "print(df.head())\n",
        "\n",
        "df.drop_duplicates()\n",
        "df['age']=df['age'].fillna(df['age'].mean())\n",
        "df['attendance']=df['attendance'].fillna(df['attendance'].median())\n",
        "df['department']=df['department'].replace({'Electronics':'Electronics'})\n",
        "print('\\nCleaned Data')\n",
        "print(df.head(30))"
      ],
      "metadata": {
        "colab": {
          "base_uri": "https://localhost:8080/"
        },
        "id": "TxI67-bQG58x",
        "outputId": "f075cd95-1465-4908-dae1-fa6b45d30eec"
      },
      "execution_count": null,
      "outputs": [
        {
          "output_type": "stream",
          "name": "stdout",
          "text": [
            "original dirty data\n",
            "   Unnamed: 0  student_id   name   age        department  marks  attendance\n",
            "0           0           1  Helen  22.0       Electronics     92         NaN\n",
            "1           1           2  Farah  23.0             Civil     53        87.0\n",
            "2           2           3  Alice  20.0  Computer Science     60         NaN\n",
            "3           3           4    Bob  23.0        Mechanical     87        86.0\n",
            "4           4           5  Diana  21.0  Computer Science     57        79.0\n",
            "\n",
            "Cleaned Data\n",
            "    Unnamed: 0  student_id    name      age        department  marks  \\\n",
            "0            0           1   Helen  22.0000       Electronics     92   \n",
            "1            1           2   Farah  23.0000             Civil     53   \n",
            "2            2           3   Alice  20.0000  Computer Science     60   \n",
            "3            3           4     Bob  23.0000        Mechanical     87   \n",
            "4            4           5   Diana  21.0000  Computer Science     57   \n",
            "5            5           6   Helen  22.0000        Mechanical     56   \n",
            "6            6           7   Diana  21.5625             Civil     80   \n",
            "7            7           8  George  21.0000  Computer Science     96   \n",
            "8            8           9   Helen  21.0000        Mechanical     90   \n",
            "9            9          10   Diana  21.5625             Civil     59   \n",
            "10          10          11    Eric  21.0000        Mechanical     87   \n",
            "11          11          12  George  22.0000        Mechanical     73   \n",
            "12          12          13   Helen  21.5625       Electronics     87   \n",
            "13          13          14     Bob  21.5625       Electronics     79   \n",
            "14          14          15   Helen  20.0000       Electronics     64   \n",
            "15          15          16  George  20.0000  Computer Science     54   \n",
            "16          16          17    Eric  23.0000       Electronics     51   \n",
            "17          17          18     Bob  22.0000       Electronics     90   \n",
            "18          18          19   Alice  21.0000             Civil     87   \n",
            "19          19          20     Bob  23.0000       Electronics     91   \n",
            "\n",
            "    attendance  \n",
            "0         87.0  \n",
            "1         87.0  \n",
            "2         87.0  \n",
            "3         86.0  \n",
            "4         79.0  \n",
            "5         81.0  \n",
            "6         87.0  \n",
            "7         87.0  \n",
            "8         87.0  \n",
            "9         87.0  \n",
            "10        87.0  \n",
            "11        97.0  \n",
            "12        99.0  \n",
            "13        87.0  \n",
            "14        98.0  \n",
            "15        88.0  \n",
            "16        78.0  \n",
            "17        87.0  \n",
            "18        93.0  \n",
            "19        87.0  \n"
          ]
        }
      ]
    },
    {
      "cell_type": "code",
      "source": [
        "#Automation rule chek low marks\n",
        "if \"marks\" in df.columns:\n",
        "  low_marks=df[df[\"marks\"]<40]\n",
        "  if not low_marks.empty:\n",
        "    print(\"\\n Warning!! Students with marks below 40:\")\n",
        "    print(low_marks[[\"student_id\",\"name\",\"marks\"]])\n",
        "  else:\n",
        "    print(\"\\n No failing students found\")\n",
        "print(\"\\n Cleaned Data\")\n",
        "print(df.head())"
      ],
      "metadata": {
        "colab": {
          "base_uri": "https://localhost:8080/"
        },
        "id": "7Ut2GgvgJCBy",
        "outputId": "48976147-1fc8-46b0-8b3f-f24ece5910e8"
      },
      "execution_count": null,
      "outputs": [
        {
          "output_type": "stream",
          "name": "stdout",
          "text": [
            "\n",
            " No failing students found\n",
            "\n",
            " Cleaned Data\n",
            "   Unnamed: 0  student_id   name   age        department  marks  attendance\n",
            "0           0           1  Helen  22.0       Electronics     92        87.0\n",
            "1           1           2  Farah  23.0             Civil     53        87.0\n",
            "2           2           3  Alice  20.0  Computer Science     60        87.0\n",
            "3           3           4    Bob  23.0        Mechanical     87        86.0\n",
            "4           4           5  Diana  21.0  Computer Science     57        79.0\n"
          ]
        }
      ]
    }
  ]
}
