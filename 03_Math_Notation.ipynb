{
  "nbformat": 4,
  "nbformat_minor": 0,
  "metadata": {
    "colab": {
      "provenance": [],
      "authorship_tag": "ABX9TyPPZnb7cmyJhMkfXXL8Vit3",
      "include_colab_link": true
    },
    "kernelspec": {
      "name": "python3",
      "display_name": "Python 3"
    },
    "language_info": {
      "name": "python"
    }
  },
  "cells": [
    {
      "cell_type": "markdown",
      "metadata": {
        "id": "view-in-github",
        "colab_type": "text"
      },
      "source": [
        "<a href=\"https://colab.research.google.com/github/noctxrne/ICT_Notes/blob/main/Math_Notation.ipynb\" target=\"_parent\"><img src=\"https://colab.research.google.com/assets/colab-badge.svg\" alt=\"Open In Colab\"/></a>"
      ]
    },
    {
      "cell_type": "code",
      "execution_count": null,
      "metadata": {
        "colab": {
          "base_uri": "https://localhost:8080/"
        },
        "id": "VEPQ_dr70Xq5",
        "outputId": "cabf95d1-c91d-4781-9e2a-00347cf77cc7"
      },
      "outputs": [
        {
          "output_type": "stream",
          "name": "stdout",
          "text": [
            "6.666666666666667\n"
          ]
        }
      ],
      "source": [
        "#Mean\n",
        "data =[5,8,7]\n",
        "find_mean=sum(data)/3\n",
        "print(find_mean)"
      ]
    },
    {
      "cell_type": "code",
      "source": [
        "#Median\n",
        "l = [1, 3, 5, 7, 9,10]\n",
        "def median(data):\n",
        "  data.sort()\n",
        "  n = len(data)\n",
        "  if n % 2 == 1:\n",
        "      median = data[n // 2]  # Odd number of items\n",
        "  else:\n",
        "      median = (data[n // 2 - 1] + data[n // 2]) / 2  # Even number of items\n",
        "  return median\n",
        "median(l)\n"
      ],
      "metadata": {
        "colab": {
          "base_uri": "https://localhost:8080/"
        },
        "id": "3E7rIEU_1p8V",
        "outputId": "9dc52508-4af2-45c6-df74-c64203170f2f"
      },
      "execution_count": null,
      "outputs": [
        {
          "output_type": "execute_result",
          "data": {
            "text/plain": [
              "6.0"
            ]
          },
          "metadata": {},
          "execution_count": 30
        }
      ]
    },
    {
      "cell_type": "code",
      "source": [
        "#Mode\n",
        "data = [1, 3, 1, 7, 9,10,180,180,7]\n",
        "n = len(data)\n",
        "count=0\n",
        "max_count=0\n",
        "mode={}\n",
        "data.sort()\n",
        "for i in range(0,n):\n",
        "  count=0\n",
        "  for j in range(0,n):\n",
        "    if data[i]==data[j]:\n",
        "      count+=1\n",
        "  mode[data[i]]=count\n",
        "\n",
        "for i in range(0,n):\n",
        "  if(mode[data[i]]>max_count):\n",
        "    max_count=mode[data[i]]\n",
        "\n",
        "for key, value in mode.items():\n",
        "    if value == max_count:\n",
        "      print(f\"Mode is {key}\")\n",
        "\n",
        "\n",
        "\n",
        "\n"
      ],
      "metadata": {
        "colab": {
          "base_uri": "https://localhost:8080/"
        },
        "id": "09lepCSB5eTK",
        "outputId": "7b0d2bc0-e84a-416c-bf48-dfce39bcbfc1"
      },
      "execution_count": null,
      "outputs": [
        {
          "output_type": "stream",
          "name": "stdout",
          "text": [
            "Mode is 1\n",
            "Mode is 7\n",
            "Mode is 180\n"
          ]
        }
      ]
    },
    {
      "cell_type": "code",
      "source": [
        "list=[85,60,72,55,105,315,380,290,190,130,95,70]\n",
        "list.sort()\n",
        "q2=median(list)\n",
        "q1=int(.25*len(data))\n",
        "q3=int(.75*len(data))\n",
        "iqr=iqr=q3-q1\n",
        "lower_limit=q1-1.5*iqr\n",
        "upper_limit=q3-1.5*iqr\n",
        "print(f\"Lower Bound: {lower_limit}\")\n",
        "print(f\"Upper Bound: {upper_limit}\")"
      ],
      "metadata": {
        "id": "NdZ7hxloWy2B",
        "colab": {
          "base_uri": "https://localhost:8080/"
        },
        "outputId": "dfd3efbc-7d2c-46ec-f2a2-d5e4e05cb632"
      },
      "execution_count": null,
      "outputs": [
        {
          "output_type": "stream",
          "name": "stdout",
          "text": [
            "Lower Bound: -3.5\n",
            "Upper Bound: -0.5\n"
          ]
        }
      ]
    }
  ]
}
