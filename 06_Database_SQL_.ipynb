{
  "nbformat": 4,
  "nbformat_minor": 0,
  "metadata": {
    "colab": {
      "provenance": [],
      "authorship_tag": "ABX9TyP5/InkisQF/p82a1lKEvIc",
      "include_colab_link": true
    },
    "kernelspec": {
      "name": "python3",
      "display_name": "Python 3"
    },
    "language_info": {
      "name": "python"
    }
  },
  "cells": [
    {
      "cell_type": "markdown",
      "metadata": {
        "id": "view-in-github",
        "colab_type": "text"
      },
      "source": [
        "<a href=\"https://colab.research.google.com/github/noctxrne/ICT-Notes/blob/main/06_Database_SQL_.ipynb\" target=\"_parent\"><img src=\"https://colab.research.google.com/assets/colab-badge.svg\" alt=\"Open In Colab\"/></a>"
      ]
    },
    {
      "cell_type": "markdown",
      "source": [
        "# **Database**"
      ],
      "metadata": {
        "id": "WCZ4CKjYkrVO"
      }
    },
    {
      "cell_type": "markdown",
      "source": [
        "## **Types:**\n",
        "\n",
        "1.   Relational database\n",
        "2.   Object-Oriented databse\n",
        "3.   Distributed databases\n",
        "4.   Data warehouse\n",
        "5.   NoSQL databases\n",
        "\n"
      ],
      "metadata": {
        "id": "CkW3fn8ckxpG"
      }
    },
    {
      "cell_type": "markdown",
      "source": [
        "![WhatsApp Image 2025-08-28 at 00.15.19_10aa26f5.jpg](data:image/jpeg;base64,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)"
      ],
      "metadata": {
        "id": "UrvAkOAV2K6t"
      }
    },
    {
      "cell_type": "markdown",
      "source": [
        "# **SQL** - Structured Query Language"
      ],
      "metadata": {
        "id": "TCFHyTdol2-s"
      }
    },
    {
      "cell_type": "code",
      "execution_count": null,
      "metadata": {
        "id": "OCUF2AjVkfkd"
      },
      "outputs": [],
      "source": [
        "import sqlite3\n",
        "conn=sqlite3.connect(\"students.db\")\n",
        "cursor=conn.cursor()"
      ]
    },
    {
      "cell_type": "code",
      "source": [
        "cursor.execute(\"\"\"CREATE TABLE IF NOT EXISTS students(\n",
        "    id INTEGER PRIMARY KEY AUTOINCREMENT,\n",
        "    name TEXT,\n",
        "    age INTEGER,\n",
        "    gender TEXT,\n",
        "    grade TEXT\n",
        "    )\n",
        "\"\"\")"
      ],
      "metadata": {
        "colab": {
          "base_uri": "https://localhost:8080/"
        },
        "id": "Xfoz7op17iIm",
        "outputId": "0c5b16e9-0ac9-4158-d995-91171609673e"
      },
      "execution_count": null,
      "outputs": [
        {
          "output_type": "execute_result",
          "data": {
            "text/plain": [
              "<sqlite3.Cursor at 0x7f8e2eecb540>"
            ]
          },
          "metadata": {},
          "execution_count": 75
        }
      ]
    },
    {
      "cell_type": "code",
      "source": [
        "cursor.execute(\"insert into students(name,age,gender,grade) values('Sreesanth',21,'M','A+')\")\n",
        "cursor.execute(\"insert into students(name,age,gender,grade) values('Aryan','22','M','B+')\")\n",
        "cursor.execute(\"insert into students(name,age,gender,grade) values('Nikhil','25','M','C+')\")\n",
        "cursor.execute(\"insert into students(name,age,gender,grade) values('XXX','13','M','C+')\")\n"
      ],
      "metadata": {
        "colab": {
          "base_uri": "https://localhost:8080/"
        },
        "id": "CRWy5v2vAoQR",
        "outputId": "818ad079-60da-49a6-fbaa-a40826644795"
      },
      "execution_count": null,
      "outputs": [
        {
          "output_type": "execute_result",
          "data": {
            "text/plain": [
              "<sqlite3.Cursor at 0x7f8e2eecb540>"
            ]
          },
          "metadata": {},
          "execution_count": 76
        }
      ]
    },
    {
      "cell_type": "code",
      "source": [
        "conn.commit()"
      ],
      "metadata": {
        "id": "H8wRkoa0WnIf"
      },
      "execution_count": null,
      "outputs": []
    },
    {
      "cell_type": "code",
      "source": [
        "cursor.execute(\"select*from students\")"
      ],
      "metadata": {
        "colab": {
          "base_uri": "https://localhost:8080/"
        },
        "id": "XInn2u08ERm5",
        "outputId": "e56de6e5-cd17-4dda-f95f-beedc7c7b4aa"
      },
      "execution_count": null,
      "outputs": [
        {
          "output_type": "execute_result",
          "data": {
            "text/plain": [
              "<sqlite3.Cursor at 0x7f8e2eecb540>"
            ]
          },
          "metadata": {},
          "execution_count": 78
        }
      ]
    },
    {
      "cell_type": "code",
      "source": [
        "rows=cursor.fetchall()"
      ],
      "metadata": {
        "id": "bI3q5TWQC6w_"
      },
      "execution_count": null,
      "outputs": []
    },
    {
      "cell_type": "code",
      "source": [
        "for row in rows:\n",
        "  print(\"ID:\",row[0],\"name:\",row[1],\"age: \",row[2],\"gender: \",row[3],\"grade: \",row[4])"
      ],
      "metadata": {
        "colab": {
          "base_uri": "https://localhost:8080/"
        },
        "id": "42t_OwJwDQLv",
        "outputId": "0f376d43-5bcd-4587-a13e-3bce4cb8b33c"
      },
      "execution_count": null,
      "outputs": [
        {
          "output_type": "stream",
          "name": "stdout",
          "text": [
            "ID: 1 name: Sreesanth age:  21 gender:  M grade:  A+\n",
            "ID: 2 name: Aryan age:  22 gender:  M grade:  B+\n",
            "ID: 3 name: Nikhil age:  25 gender:  M grade:  C+\n",
            "ID: 4 name: XXX age:  13 gender:  M grade:  C+\n"
          ]
        }
      ]
    },
    {
      "cell_type": "code",
      "source": [
        "#print students whose gender is M\n",
        "cursor.execute(\"select*from students where gender='M' \")\n",
        "cursor.fetchall()"
      ],
      "metadata": {
        "colab": {
          "base_uri": "https://localhost:8080/"
        },
        "id": "y5gnAwApHD2W",
        "outputId": "83d655b6-f46f-4b32-8558-478acadde6ea"
      },
      "execution_count": null,
      "outputs": [
        {
          "output_type": "execute_result",
          "data": {
            "text/plain": [
              "[(1, 'Sreesanth', 21, 'M', 'A+'),\n",
              " (2, 'Aryan', 22, 'M', 'B+'),\n",
              " (3, 'Nikhil', 25, 'M', 'C+'),\n",
              " (4, 'XXX', 13, 'M', 'C+')]"
            ]
          },
          "metadata": {},
          "execution_count": 81
        }
      ]
    },
    {
      "cell_type": "code",
      "source": [
        "#print average of age of students\n",
        "cursor.execute(\"select avg(age) from students\")\n",
        "cursor.fetchall()"
      ],
      "metadata": {
        "colab": {
          "base_uri": "https://localhost:8080/"
        },
        "id": "fo0M293IMHEy",
        "outputId": "00ed8159-fcc2-4b4f-c411-413bfa8ddee0"
      },
      "execution_count": null,
      "outputs": [
        {
          "output_type": "execute_result",
          "data": {
            "text/plain": [
              "[(20.25,)]"
            ]
          },
          "metadata": {},
          "execution_count": 82
        }
      ]
    },
    {
      "cell_type": "code",
      "source": [
        "#print students age in ascending order but limited to 3\n",
        "cursor.execute(\"select*from students order by age,name limit 3 \")\n",
        "print(cursor.fetchall())"
      ],
      "metadata": {
        "colab": {
          "base_uri": "https://localhost:8080/"
        },
        "id": "hBJlHVtOLB0M",
        "outputId": "511fec1f-089f-4318-fd23-ac80bc6e0e68"
      },
      "execution_count": null,
      "outputs": [
        {
          "output_type": "stream",
          "name": "stdout",
          "text": [
            "[(4, 'XXX', 13, 'M', 'C+'), (1, 'Sreesanth', 21, 'M', 'A+'), (2, 'Aryan', 22, 'M', 'B+')]\n"
          ]
        }
      ]
    },
    {
      "cell_type": "code",
      "source": [
        "#Modifying table to add a colum named mark and datatype integer\n",
        "cursor.execute('alter table students add column mark integer')\n",
        "conn.commit()"
      ],
      "metadata": {
        "id": "h5dwVAtRRYp3"
      },
      "execution_count": null,
      "outputs": []
    },
    {
      "cell_type": "code",
      "source": [
        "#Updating student of id=2 and set marks=450\n",
        "cursor.execute('update students set mark=450 where id = 2')\n",
        "conn.commit()"
      ],
      "metadata": {
        "id": "Ys-Hj0HLPcnn"
      },
      "execution_count": null,
      "outputs": []
    },
    {
      "cell_type": "code",
      "source": [
        "#Printing the\n",
        "cursor.execute(\"select * from students\")\n",
        "print(cursor.fetchall())"
      ],
      "metadata": {
        "colab": {
          "base_uri": "https://localhost:8080/"
        },
        "id": "BvlROeaAQWEk",
        "outputId": "f3726051-75bd-4837-d22a-9e9d6fb8643c"
      },
      "execution_count": null,
      "outputs": [
        {
          "output_type": "stream",
          "name": "stdout",
          "text": [
            "[(1, 'Sreesanth', 21, 'M', 'A+', None), (2, 'Aryan', 22, 'M', 'B+', 450), (3, 'Nikhil', 25, 'M', 'C+', None), (4, 'XXX', 13, 'M', 'C+', None)]\n"
          ]
        }
      ]
    },
    {
      "cell_type": "markdown",
      "source": [
        "# **Movies**"
      ],
      "metadata": {
        "id": "oOMujvfNXYtp"
      }
    },
    {
      "cell_type": "code",
      "source": [
        "import sqlite3\n",
        "\n",
        "# Connect to database (creates if not exists)\n",
        "conn=sqlite3.connect(\"movies.db\")\n",
        "c=conn.cursor()"
      ],
      "metadata": {
        "id": "SEvd630tw4YF"
      },
      "execution_count": null,
      "outputs": []
    },
    {
      "cell_type": "code",
      "source": [
        "# Create table (only if it doesn't exist already)\n",
        "c.execute('''\n",
        "CREATE TABLE IF NOT EXISTS movies (\n",
        "    id INTEGER PRIMARY KEY AUTOINCREMENT,\n",
        "    movie_name TEXT,\n",
        "    director_name TEXT,\n",
        "    country TEXT,\n",
        "    imdb_rating REAL,\n",
        "    box_office_collection INTEGER\n",
        ")\n",
        "''')"
      ],
      "metadata": {
        "colab": {
          "base_uri": "https://localhost:8080/"
        },
        "id": "nDJU90YuXlpZ",
        "outputId": "0079d58f-ee82-417b-f096-91768a5cd777"
      },
      "execution_count": null,
      "outputs": [
        {
          "output_type": "execute_result",
          "data": {
            "text/plain": [
              "<sqlite3.Cursor at 0x7f8e2eecb940>"
            ]
          },
          "metadata": {},
          "execution_count": 88
        }
      ]
    },
    {
      "cell_type": "code",
      "source": [
        "# Insert some movie records\n",
        "c.execute(\"INSERT INTO movies(movie_name,director_name,country,imdb_rating,box_office_collection) VALUES('Inception','Christopher Nolan','USA',8.8,829895144)\")\n",
        "c.execute(\"INSERT INTO movies(movie_name,director_name,country,imdb_rating,box_office_collection) VALUES('Parasite','Bong Joon-ho','South Korea',8.6,263500000)\")\n",
        "c.execute(\"INSERT INTO movies(movie_name,director_name,country,imdb_rating,box_office_collection) VALUES('Arrival','Denis Villeneuve','USA',7.9,203000000)\")\n",
        "c.execute(\"INSERT INTO movies(movie_name,director_name,country,imdb_rating,box_office_collection) VALUES('Primer','Shane Carruth','USA',6.9,84152)\")\n",
        "c.execute(\"INSERT INTO movies(movie_name,director_name,country,imdb_rating,box_office_collection) VALUES('Wake Up Sid','Ayan Mukerji','India',7.6,14000000)\")\n",
        "c.execute(\"INSERT INTO movies(movie_name,director_name,country,imdb_rating,box_office_collection) VALUES('Tu Hai Mera Sunday','Milind Dhaimade','India',7.8,300000)\")\n",
        "c.execute(\"INSERT INTO movies(movie_name,director_name,country,imdb_rating,box_office_collection) VALUES('The Dark Knight','Christopher Nolan','USA',9.0,1004558444)\")\n",
        "conn.commit()"
      ],
      "metadata": {
        "id": "L4EkrbrDyjH9"
      },
      "execution_count": null,
      "outputs": []
    },
    {
      "cell_type": "code",
      "source": [
        "# Print all movies\n",
        "c.execute(\"SELECT * FROM movies\")\n",
        "rows = c.fetchall()\n",
        "for row in rows:\n",
        "    print(\"ID:\", row[0], \"Movie:\", row[1], \"Director:\", row[2], \"Country:\", row[3], \"IMDB:\", row[4], \"Box Office:\", row[5])\n"
      ],
      "metadata": {
        "colab": {
          "base_uri": "https://localhost:8080/"
        },
        "id": "TN57cinWzNgO",
        "outputId": "c2a9b5ce-98eb-46cc-cdb5-df7024129b96"
      },
      "execution_count": null,
      "outputs": [
        {
          "output_type": "stream",
          "name": "stdout",
          "text": [
            "ID: 1 Movie: Inception Director: Christopher Nolan Country: USA IMDB: 8.8 Box Office: 829895144\n",
            "ID: 2 Movie: Parasite Director: Bong Joon-ho Country: South Korea IMDB: 8.6 Box Office: 263500000\n",
            "ID: 3 Movie: Arrival Director: Denis Villeneuve Country: USA IMDB: 7.9 Box Office: 203000000\n",
            "ID: 4 Movie: Primer Director: Shane Carruth Country: USA IMDB: 6.9 Box Office: 84152\n",
            "ID: 5 Movie: Wake Up Sid Director: Ayan Mukerji Country: India IMDB: 7.6 Box Office: 14000000\n",
            "ID: 6 Movie: Tu Hai Mera Sunday Director: Milind Dhaimade Country: India IMDB: 7.8 Box Office: 300000\n",
            "ID: 7 Movie: The Dark Knight Director: Christopher Nolan Country: USA IMDB: 9.0 Box Office: 1004558444\n"
          ]
        }
      ]
    },
    {
      "cell_type": "code",
      "source": [
        "# Print movies with IMDB rating above 8.5\n",
        "c.execute(\"SELECT * FROM movies WHERE imdb_rating > 8.5\")\n",
        "print(\"Movies with IMDB > 8.5:\\n\", c.fetchall())"
      ],
      "metadata": {
        "colab": {
          "base_uri": "https://localhost:8080/"
        },
        "id": "Obnrix7ZzmEn",
        "outputId": "a990a448-47d2-4f3f-b5c4-3e7ef58cbf9b"
      },
      "execution_count": null,
      "outputs": [
        {
          "output_type": "stream",
          "name": "stdout",
          "text": [
            "Movies with IMDB > 8.5:\n",
            " [(1, 'Inception', 'Christopher Nolan', 'USA', 8.8, 829895144), (2, 'Parasite', 'Bong Joon-ho', 'South Korea', 8.6, 263500000), (7, 'The Dark Knight', 'Christopher Nolan', 'USA', 9.0, 1004558444)]\n"
          ]
        }
      ]
    },
    {
      "cell_type": "code",
      "source": [
        "# Print average IMDB rating\n",
        "c.execute(\"SELECT AVG(imdb_rating) FROM movies\")\n",
        "print(\"\\nAverage IMDB Rating:\", c.fetchall())"
      ],
      "metadata": {
        "colab": {
          "base_uri": "https://localhost:8080/"
        },
        "id": "tHXVOjIE0SuU",
        "outputId": "29eb8b8d-966e-4d0b-feee-ebb93e2dd192"
      },
      "execution_count": null,
      "outputs": [
        {
          "output_type": "stream",
          "name": "stdout",
          "text": [
            "\n",
            "Average IMDB Rating: [(8.085714285714285,)]\n"
          ]
        }
      ]
    },
    {
      "cell_type": "code",
      "source": [
        "#Modification\n",
        "# Add a new column for Release Year\n",
        "c.execute(\"ALTER TABLE movies ADD COLUMN release_year INTEGER\")\n",
        "conn.commit()\n",
        "# Update movie with id=2 to set release year\n",
        "c.execute(\"UPDATE movies SET release_year=2019 WHERE id=2\")\n",
        "conn.commit()"
      ],
      "metadata": {
        "id": "1a4b2RTc0Ubd"
      },
      "execution_count": null,
      "outputs": []
    },
    {
      "cell_type": "code",
      "source": [
        "release_years = {\n",
        "    \"Inception\": 2010,\n",
        "    \"Parasite\": 2019,\n",
        "    \"Arrival\": 2016,\n",
        "    \"Primer\": 2004,\n",
        "    \"Wake Up Sid\": 2009,\n",
        "    \"Tu Hai Mera Sunday\": 2016,\n",
        "    \"The Dark Knight\": 2008\n",
        "}\n",
        "\n",
        "for movie, year in release_years.items():\n",
        "    c.execute(\"UPDATE movies SET release_year=? WHERE movie_name=?\", (year, movie))\n",
        "\n",
        "conn.commit()\n"
      ],
      "metadata": {
        "id": "1qttoJNh1OrQ"
      },
      "execution_count": null,
      "outputs": []
    },
    {
      "cell_type": "code",
      "source": [
        "# Final table view\n",
        "c.execute(\"SELECT * FROM movies\")\n",
        "print(\"\\nFinal Movies Table:\", c.fetchall())"
      ],
      "metadata": {
        "colab": {
          "base_uri": "https://localhost:8080/"
        },
        "id": "1ct9gHVv0pTM",
        "outputId": "4d7f3bf0-55b6-4703-f21d-b8868f92cc77"
      },
      "execution_count": null,
      "outputs": [
        {
          "output_type": "stream",
          "name": "stdout",
          "text": [
            "\n",
            "Final Movies Table: [(1, 'Inception', 'Christopher Nolan', 'USA', 8.8, 829895144, 2010), (2, 'Parasite', 'Bong Joon-ho', 'South Korea', 8.6, 263500000, 2019), (3, 'Arrival', 'Denis Villeneuve', 'USA', 7.9, 203000000, 2016), (4, 'Primer', 'Shane Carruth', 'USA', 6.9, 84152, 2004), (5, 'Wake Up Sid', 'Ayan Mukerji', 'India', 7.6, 14000000, 2009), (6, 'Tu Hai Mera Sunday', 'Milind Dhaimade', 'India', 7.8, 300000, 2016), (7, 'The Dark Knight', 'Christopher Nolan', 'USA', 9.0, 1004558444, 2008)]\n"
          ]
        }
      ]
    }
  ]
}