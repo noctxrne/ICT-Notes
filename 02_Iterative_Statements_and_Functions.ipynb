{
  "nbformat": 4,
  "nbformat_minor": 0,
  "metadata": {
    "colab": {
      "provenance": [],
      "authorship_tag": "ABX9TyMrkCi/kJFzkCpDaEfFhPHB",
      "include_colab_link": true
    },
    "kernelspec": {
      "name": "python3",
      "display_name": "Python 3"
    },
    "language_info": {
      "name": "python"
    }
  },
  "cells": [
    {
      "cell_type": "markdown",
      "metadata": {
        "id": "view-in-github",
        "colab_type": "text"
      },
      "source": [
        "<a href=\"https://colab.research.google.com/github/noctxrne/ICT_Notes/blob/main/02_Iterative_Statements_and_Functions.ipynb\" target=\"_parent\"><img src=\"https://colab.research.google.com/assets/colab-badge.svg\" alt=\"Open In Colab\"/></a>"
      ]
    },
    {
      "cell_type": "markdown",
      "source": [
        "# **Iterative Statements and Functions**"
      ],
      "metadata": {
        "id": "z7CvrcZxtPgq"
      }
    },
    {
      "cell_type": "code",
      "execution_count": null,
      "metadata": {
        "colab": {
          "base_uri": "https://localhost:8080/"
        },
        "id": "QjY0Q9-xi3kZ",
        "outputId": "2e3c1161-dd07-4200-ffa9-8031e489f238"
      },
      "outputs": [
        {
          "output_type": "stream",
          "name": "stdout",
          "text": [
            "0\n",
            "1\n",
            "2\n",
            "3\n",
            "4\n",
            "5\n",
            "6\n",
            "7\n",
            "8\n",
            "9\n"
          ]
        }
      ],
      "source": [
        "for i in range(10):\n",
        "  print(i)"
      ]
    },
    {
      "cell_type": "code",
      "source": [
        "for num in range(100,140,2):\n",
        "  print(num)"
      ],
      "metadata": {
        "colab": {
          "base_uri": "https://localhost:8080/"
        },
        "id": "Pd7wDiQSlFhz",
        "outputId": "f720507b-13e2-4358-8c45-63d78bd74db4"
      },
      "execution_count": null,
      "outputs": [
        {
          "output_type": "stream",
          "name": "stdout",
          "text": [
            "100\n",
            "102\n",
            "104\n",
            "106\n",
            "108\n",
            "110\n",
            "112\n",
            "114\n",
            "116\n",
            "118\n",
            "120\n",
            "122\n",
            "124\n",
            "126\n",
            "128\n",
            "130\n",
            "132\n",
            "134\n",
            "136\n",
            "138\n"
          ]
        }
      ]
    },
    {
      "cell_type": "code",
      "source": [
        "my_list=['bat','cat','pin','fox','lap','pan','log']\n",
        "for item in my_list:\n",
        "  print(item)"
      ],
      "metadata": {
        "colab": {
          "base_uri": "https://localhost:8080/"
        },
        "id": "pyAu2qTDl4u7",
        "outputId": "9b4d052a-6a14-4154-943c-0ce87d3d307a"
      },
      "execution_count": null,
      "outputs": [
        {
          "output_type": "stream",
          "name": "stdout",
          "text": [
            "bat\n",
            "cat\n",
            "pin\n",
            "fox\n",
            "lap\n",
            "pan\n",
            "log\n"
          ]
        }
      ]
    },
    {
      "cell_type": "code",
      "source": [
        "my_list=['bat','cat','pin','fox','lap','pan','log']\n",
        "for i in range(len(my_list)):\n",
        "  print(my_list[i])"
      ],
      "metadata": {
        "colab": {
          "base_uri": "https://localhost:8080/"
        },
        "id": "z83ABz6pmhf7",
        "outputId": "79359681-a14b-4188-87d0-62d1fc44a1e6"
      },
      "execution_count": null,
      "outputs": [
        {
          "output_type": "stream",
          "name": "stdout",
          "text": [
            "bat\n",
            "cat\n",
            "pin\n",
            "fox\n",
            "lap\n",
            "pan\n",
            "log\n"
          ]
        }
      ]
    },
    {
      "cell_type": "code",
      "source": [
        "my_list=['bat','cat','pin','fox','lap','pan','log']\n",
        "for i in range(len(my_list)):\n",
        "  if i>len(my_list)/2 :\n",
        "    print(my_list[i])\n",
        "  else:\n",
        "    print(\"Error\")"
      ],
      "metadata": {
        "colab": {
          "base_uri": "https://localhost:8080/"
        },
        "id": "CEf7dqHqnyeJ",
        "outputId": "6a4c0574-52bd-4a55-8478-92b245acabbd"
      },
      "execution_count": null,
      "outputs": [
        {
          "output_type": "stream",
          "name": "stdout",
          "text": [
            "Error\n",
            "Error\n",
            "Error\n",
            "Error\n",
            "lap\n",
            "pan\n",
            "log\n"
          ]
        }
      ]
    },
    {
      "cell_type": "code",
      "source": [
        "my_dict={\n",
        "    'name':\"Sherin\",\n",
        "    'age':23,\n",
        "    'course':\"DSA\",\n",
        "    'From':\"TVM\",\n",
        "    'Food':\"Biriyani\",\n",
        "    'Game':\"Cricket\",\n",
        "    'Place':\"Goa\",\n",
        "}\n",
        "print(my_dict)\n",
        "my_dict.keys()\n",
        "my_dict.values()\n",
        "my_dict.items()\n",
        "\n",
        "for k,v in my_dict.items():\n",
        "  print(f\"My {k} is {v}\")"
      ],
      "metadata": {
        "colab": {
          "base_uri": "https://localhost:8080/"
        },
        "id": "vo6cz94tpX2F",
        "outputId": "19881efb-e37a-49e4-8b6a-28ef382a0f70"
      },
      "execution_count": null,
      "outputs": [
        {
          "output_type": "stream",
          "name": "stdout",
          "text": [
            "{'name': 'Sherin', 'age': 23, 'course': 'DSA', 'From': 'TVM', 'Food': 'Biriyani', 'Game': 'Cricket', 'Place': 'Goa'}\n",
            "My name is Sherin\n",
            "My age is 23\n",
            "My course is DSA\n",
            "My From is TVM\n",
            "My Food is Biriyani\n",
            "My Game is Cricket\n",
            "My Place is Goa\n"
          ]
        }
      ]
    },
    {
      "cell_type": "code",
      "source": [
        "budget=int(input(\"Enter Budget: \"))\n",
        "b=budget\n",
        "my_list={\n",
        "    'apple':23,\n",
        "    'banana':45,\n",
        "    'tomato':63,\n",
        "    'carrot':40,\n",
        "    'potato':46,\n",
        "    'beans':23,\n",
        "}\n",
        "\n",
        "newlist=[]\n",
        "print(\"ITEMS:\")\n",
        "for k,v in my_list.items():\n",
        "  print(f\"{k} - {v}\")\n",
        "for k,v in my_list.items():\n",
        "  if b > v:\n",
        "    newlist.append(k)\n",
        "    b=b-v\n",
        "print(\"Items you can purchase:\")\n",
        "print(newlist)\n",
        "print(f\"Your Balance: {b}\")"
      ],
      "metadata": {
        "colab": {
          "base_uri": "https://localhost:8080/"
        },
        "id": "v-MJsL4-sLWl",
        "outputId": "41f136f5-6d40-4a03-b97e-be20d6726a63"
      },
      "execution_count": null,
      "outputs": [
        {
          "output_type": "stream",
          "name": "stdout",
          "text": [
            "Enter Budget: 100\n",
            "ITEMS:\n",
            "apple - 23\n",
            "banana - 45\n",
            "tomato - 63\n",
            "carrot - 40\n",
            "potato - 46\n",
            "beans - 23\n",
            "Items you can purchase:\n",
            "['apple', 'banana', 'beans']\n",
            "Your Balance: 9\n"
          ]
        }
      ]
    },
    {
      "cell_type": "code",
      "source": [
        "for i in range(1,100):\n",
        "  if(i%3==0 and i%5==0):\n",
        "    print(i)"
      ],
      "metadata": {
        "colab": {
          "base_uri": "https://localhost:8080/"
        },
        "id": "LDB4ubae5UXh",
        "outputId": "295a2c05-382f-4470-ab9c-987214595661"
      },
      "execution_count": null,
      "outputs": [
        {
          "output_type": "stream",
          "name": "stdout",
          "text": [
            "15\n",
            "30\n",
            "45\n",
            "60\n",
            "75\n",
            "90\n"
          ]
        }
      ]
    },
    {
      "cell_type": "code",
      "source": [
        "A=1\n",
        "while A < 10:\n",
        "  print(A)\n",
        "  A+=2\n",
        "else:\n",
        "  print(\"You crossed the limit\")"
      ],
      "metadata": {
        "colab": {
          "base_uri": "https://localhost:8080/"
        },
        "id": "gEXQ6nbQAQeD",
        "outputId": "6e2dfc03-2482-4b0d-cf35-70547a8ff94e"
      },
      "execution_count": null,
      "outputs": [
        {
          "output_type": "stream",
          "name": "stdout",
          "text": [
            "1\n",
            "3\n",
            "5\n",
            "7\n",
            "9\n",
            "You crossed the limit\n"
          ]
        }
      ]
    },
    {
      "cell_type": "code",
      "source": [
        "balance=int(input(\"Enter balance: \"))\n",
        "while(balance>0):\n",
        "  print(f\"Balance is {balance}\")\n",
        "  balance-=1"
      ],
      "metadata": {
        "colab": {
          "base_uri": "https://localhost:8080/"
        },
        "id": "_eiMO96UBgq_",
        "outputId": "5db28610-1299-43c1-fcd6-00d7a6c327e2"
      },
      "execution_count": null,
      "outputs": [
        {
          "output_type": "stream",
          "name": "stdout",
          "text": [
            "Enter balance: 10\n",
            "Balance is 10\n",
            "Balance is 9\n",
            "Balance is 8\n",
            "Balance is 7\n",
            "Balance is 6\n",
            "Balance is 5\n",
            "Balance is 4\n",
            "Balance is 3\n",
            "Balance is 2\n",
            "Balance is 1\n"
          ]
        }
      ]
    },
    {
      "cell_type": "code",
      "source": [
        "#Secret game\n",
        "snum=5\n",
        "num=int(input(\"Guess the secret number: \"))\n",
        "while(num!=snum):\n",
        "  print(\"Try again\")\n",
        "  num=int(input(\"Guess the secret number: \"))\n",
        "else:\n",
        "  print(\"You've found the Secret number\")"
      ],
      "metadata": {
        "colab": {
          "base_uri": "https://localhost:8080/"
        },
        "id": "sRA7J1MAEZ-G",
        "outputId": "40635d38-bc9a-4bd4-f97e-9c77e0f169f0"
      },
      "execution_count": null,
      "outputs": [
        {
          "output_type": "stream",
          "name": "stdout",
          "text": [
            "Guess the secret number: 9\n",
            "Try again\n",
            "Guess the secret number: 7\n",
            "Try again\n",
            "Guess the secret number: 6\n",
            "Try again\n",
            "Guess the secret number: 3\n",
            "Try again\n",
            "Guess the secret number: 5\n",
            "You've found the Secret number\n"
          ]
        }
      ]
    },
    {
      "cell_type": "code",
      "source": [
        "import random\n",
        "secretNum=random.randint(1,10)\n",
        "num=int(input(\"Guess the secret number: \"))\n",
        "while(num!=secretNum):\n",
        "  print(\"Try again\")\n",
        "  num=int(input(\"Guess the secret number: \"))\n",
        "else:\n",
        "  print(\"Correct\")"
      ],
      "metadata": {
        "colab": {
          "base_uri": "https://localhost:8080/"
        },
        "id": "nImD9ZfoJfs2",
        "outputId": "d3afc087-47cd-4b60-e4a5-d2b452eba5de"
      },
      "execution_count": null,
      "outputs": [
        {
          "output_type": "stream",
          "name": "stdout",
          "text": [
            "Guess the secret number: 6\n",
            "Try again\n",
            "Guess the secret number: 9\n",
            "Try again\n",
            "Guess the secret number: 1\n",
            "Try again\n",
            "Guess the secret number: 3\n",
            "Try again\n",
            "Guess the secret number: 8\n",
            "Try again\n",
            "Guess the secret number: 9\n",
            "Try again\n",
            "Guess the secret number: 3\n",
            "Try again\n",
            "Guess the secret number: 4\n",
            "Correct\n"
          ]
        }
      ]
    },
    {
      "cell_type": "code",
      "source": [
        "pw=\"hello123\"\n",
        "i=0\n",
        "while(i<3):\n",
        "  new_pass=input(\"Enter password: \")\n",
        "  if(new_pass!=pw):\n",
        "    print(\"Incorrect Password\")\n",
        "  else:\n",
        "    print(\"Correct Password\")\n",
        "  i+=1\n",
        "\n",
        "else:\n",
        "  if(i>3):\n",
        "    print(\"out of trys\")\n"
      ],
      "metadata": {
        "colab": {
          "base_uri": "https://localhost:8080/"
        },
        "id": "fUs7dX7sMUip",
        "outputId": "2c4afb58-4824-40ba-b043-f6136d1a48e7"
      },
      "execution_count": null,
      "outputs": [
        {
          "output_type": "stream",
          "name": "stdout",
          "text": [
            "Enter password: g\n",
            "Incorrect Password\n",
            "Enter password: g\n",
            "Incorrect Password\n",
            "Enter password: hello123\n",
            "Correct Password\n"
          ]
        }
      ]
    },
    {
      "cell_type": "code",
      "source": [
        "movie_list={\n",
        "    'Before Sunrise':5,\n",
        "    'Bullet Train':8,\n",
        "    'Primer':7,\n",
        "    'Arrival':8,\n",
        "    'Curious Case Of Benjamin Button':7.5,\n",
        "    'Old Boy':8.8,\n",
        "    'Dear Friend':7,\n",
        "    'DevD':7.2,\n",
        "    'The Art of Racing in the Rain':7.8,\n",
        "    'Thoovanathumbikal':7.6,\n",
        "    'Aarattu':8,\n",
        "    'Knowing':6\n",
        "}\n",
        "# #Printing list\n",
        "movie_list.items()"
      ],
      "metadata": {
        "id": "tId9onLMbdsv",
        "colab": {
          "base_uri": "https://localhost:8080/"
        },
        "outputId": "97d13a3c-8553-4240-cd2b-96ad30378a90"
      },
      "execution_count": null,
      "outputs": [
        {
          "output_type": "execute_result",
          "data": {
            "text/plain": [
              "dict_items([('Before Sunrise', 5), ('Bullet Train', 8), ('Primer', 7), ('Arrival', 8), ('Curious Case Of Benjamin Button', 7.5), ('Old Boy', 8.8), ('Dear Friend', 7), ('DevD', 7.2), ('The Art of Racing in the Rain', 7.8), ('Thoovanathumbikal', 7.6), ('Aarattu', 8), ('Knowing', 6)])"
            ]
          },
          "metadata": {},
          "execution_count": 12
        }
      ]
    },
    {
      "cell_type": "code",
      "source": [
        "#Adding 2 movies and ratings\n",
        "i=0;\n",
        "while(i<2):\n",
        "  newMovie=input(\"Enter movie and rating to add ['Movie':'Rating'] :\")\n",
        "  movieName=newMovie.split(':')[0]\n",
        "  movieRating=float(newMovie.split(':')[1])\n",
        "  movie_list[movieName]=movieRating\n",
        "  i+=1\n",
        "movie_list.items()"
      ],
      "metadata": {
        "colab": {
          "base_uri": "https://localhost:8080/"
        },
        "id": "N70P1jA41QAO",
        "outputId": "95524fe7-864e-4ca8-8bb8-3b134f8a7461"
      },
      "execution_count": null,
      "outputs": [
        {
          "name": "stdout",
          "output_type": "stream",
          "text": [
            "Enter movie and rating to add ['Movie':'Rating'] :WakeUpSid:8\n",
            "Enter movie and rating to add ['Movie':'Rating'] :Tu Hai Mera Sunday:7.5\n"
          ]
        },
        {
          "output_type": "execute_result",
          "data": {
            "text/plain": [
              "dict_items([('Before Sunrise', 9.0), ('Bullet Train', 8), ('Primer', 7), ('Arrival', 8), ('Curious Case Of Benjamin Button', 7.5), ('Old Boy', 8.8), ('Dear Friend', 7), ('DevD', 7.2), ('The Art of Racing in the Rain', 7.8), ('Thoovanathumbikal', 7.6), ('Aarattu', 5.0), ('Knowing', 6), ('WakeUpSid', 8.0), ('Tu Hai Mera Sunday', 7.5)])"
            ]
          },
          "metadata": {},
          "execution_count": 14
        }
      ]
    },
    {
      "cell_type": "code",
      "source": [
        "#Updating Ratings\n",
        "j=1\n",
        "while(j==1):\n",
        "  updateMovie=input(\"Enter the movie you want to update the rating of: \")\n",
        "  for k,v in movie_list.items():\n",
        "    if(updateMovie==k):\n",
        "      updateRating=float(input(\"Enter rating of the movie :\"))\n",
        "\n",
        "      movie_list[k]=updateRating\n",
        "      j=0\n",
        "  if(j!=0):\n",
        "    print(\"Movie not Found\")\n",
        "  inv=0\n",
        "  while(inv==0):\n",
        "    ans=input(\"Do you want to update more[Y/N]?: \")\n",
        "    if ans=='Y' or ans=='y':\n",
        "      j=1\n",
        "      inv=1\n",
        "    elif ans=='N' or ans=='n':\n",
        "      j=0\n",
        "      inv=1\n",
        "    else:\n",
        "      print(\"Invalid option\")\n",
        "      inv=0\n",
        "movie_list.items()"
      ],
      "metadata": {
        "colab": {
          "base_uri": "https://localhost:8080/"
        },
        "id": "THxpnQch1Tn8",
        "outputId": "8f6bfcb3-1f9f-42f6-afbf-5cbbe37926cd"
      },
      "execution_count": null,
      "outputs": [
        {
          "name": "stdout",
          "output_type": "stream",
          "text": [
            "Enter the movie you want to update the rating of: Aarattu\n",
            "Enter rating of the movie :5\n",
            "Do you want to update more[Y/N]?: y\n",
            "Enter the movie you want to update the rating of: Before Sunrise\n",
            "Enter rating of the movie :9\n",
            "Do you want to update more[Y/N]?: n\n"
          ]
        },
        {
          "output_type": "execute_result",
          "data": {
            "text/plain": [
              "dict_items([('Before Sunrise', 9.0), ('Bullet Train', 8), ('Primer', 7), ('Arrival', 8), ('Curious Case Of Benjamin Button', 7.5), ('Old Boy', 8.8), ('Dear Friend', 7), ('DevD', 7.2), ('The Art of Racing in the Rain', 7.8), ('Thoovanathumbikal', 7.6), ('Aarattu', 5.0), ('Knowing', 6), ('WakeUpSid', 8.0), ('Tu Hai Mera Sunday', 7.5)])"
            ]
          },
          "metadata": {},
          "execution_count": 18
        }
      ]
    },
    {
      "cell_type": "markdown",
      "source": [
        "# **User Defined Function**"
      ],
      "metadata": {
        "id": "kuWwMVt8tX6s"
      }
    },
    {
      "cell_type": "code",
      "source": [
        "def greet():\n",
        "  print(\"hello welcome to Kerala!\")\n",
        "\n",
        "greet()"
      ],
      "metadata": {
        "colab": {
          "base_uri": "https://localhost:8080/"
        },
        "id": "hmB01BnXtpen",
        "outputId": "825111ae-657e-4a34-9d0e-67e0c0c21391"
      },
      "execution_count": null,
      "outputs": [
        {
          "output_type": "stream",
          "name": "stdout",
          "text": [
            "hello welcome to Kerala!\n"
          ]
        }
      ]
    },
    {
      "cell_type": "code",
      "source": [
        "def greet(name,time ='11 am'):  #default value set\n",
        "  print(f\"Hello {name} ,Welcome to the program\")\n",
        "  print(f\"Your session will start at {time}\")\n",
        "\n",
        "greet('Nikhil','3 pm')\n",
        "greet('Sreesanth','10 am')\n",
        "greet('RajuA10')  #since default value set no need to call time argument\n"
      ],
      "metadata": {
        "colab": {
          "base_uri": "https://localhost:8080/"
        },
        "id": "983MCBzmv4pZ",
        "outputId": "fc171097-d0c1-400c-fc3e-58d2343478ef"
      },
      "execution_count": null,
      "outputs": [
        {
          "output_type": "stream",
          "name": "stdout",
          "text": [
            "Hello Nikhil ,Welcome to the program\n",
            "Your session will start at 3 pm\n",
            "Hello Sreesanth ,Welcome to the program\n",
            "Your session will start at 10 am\n",
            "Hello RajuA10 ,Welcome to the program\n",
            "Your session will start at 11 am\n"
          ]
        }
      ]
    },
    {
      "cell_type": "code",
      "source": [
        "#WAP to print the product of two user defined numbers using functions\n",
        "n1=int(input(\"Enter first number: \"))\n",
        "n2=int(input(\"Enter second number: \"))\n",
        "\n",
        "def product(num1,num2):\n",
        "  prod=num1*num2\n",
        "  print(f\"Product of {num1} and {num2} is {prod}\")\n",
        "\n",
        "product(n1,n2)"
      ],
      "metadata": {
        "colab": {
          "base_uri": "https://localhost:8080/"
        },
        "id": "856fpZf1yPab",
        "outputId": "df9f109c-4dc8-421e-aed0-e319179acb0e"
      },
      "execution_count": null,
      "outputs": [
        {
          "output_type": "stream",
          "name": "stdout",
          "text": [
            "Enter first number: 12\n",
            "Enter second number: 45\n",
            "Product of 12 and 45 is 540\n"
          ]
        }
      ]
    },
    {
      "cell_type": "code",
      "source": [
        "#WAP to print the total bill amount (including 10% tip) for the food consumed at a restaurant\n",
        "priceOrdered=float(input(\"Price ordered: \"))\n",
        "def totalBill(price):\n",
        "  totalPrice=price+ 10/100.0*price\n",
        "  print(f\"Total Bill Amount: {totalPrice}\")\n",
        "\n",
        "totalBill(priceOrdered)"
      ],
      "metadata": {
        "colab": {
          "base_uri": "https://localhost:8080/"
        },
        "id": "3QDye7Up1lp4",
        "outputId": "f019e1b0-77bf-481b-d9ac-ae41eee9b4f6"
      },
      "execution_count": null,
      "outputs": [
        {
          "output_type": "stream",
          "name": "stdout",
          "text": [
            "Price ordered: 45\n",
            "Total Bill Amount: 49.5\n"
          ]
        }
      ]
    },
    {
      "cell_type": "code",
      "source": [
        "#WAP to print total Bill that includes tip amount which increases on the price of the ordered food\n",
        "priceOrdered=float(input(\"Price ordered: \"))\n",
        "def totalBill(price):\n",
        "  if(price>1000):\n",
        "    totalPrice=price+20/100.0*price\n",
        "  elif(price>500):\n",
        "    totalPrice=price+15/100.0*price\n",
        "  else:\n",
        "    totalPrice=price+ 10/100.0*price\n",
        "  print(f\"Total Bill Amount: {totalPrice}\")\n",
        "\n",
        "totalBill(priceOrdered)"
      ],
      "metadata": {
        "colab": {
          "base_uri": "https://localhost:8080/"
        },
        "id": "YdnfYMhO3u0I",
        "outputId": "93188fed-fc0a-4387-9229-15699be8005e"
      },
      "execution_count": null,
      "outputs": [
        {
          "output_type": "stream",
          "name": "stdout",
          "text": [
            "Price ordered: 3000\n",
            "Total Bill Amount: 3600.0\n"
          ]
        }
      ]
    },
    {
      "cell_type": "code",
      "source": [
        "#LIst and functions\n",
        "\n",
        "#WAP to print the average of even numbers of numbers inside a list\n",
        "num_list=[12,4,5,7,8,13,10,21]\n",
        "def average_even(numberlist):\n",
        "  even_list=[]\n",
        "  for num in numberlist:\n",
        "    if num%2==0:\n",
        "      even_list.append(num)\n",
        "  averageEven=sum(even_list)/len(even_list)\n",
        "  print(f\"All even numbers in the list: {even_list}\")\n",
        "  print(f\"Average of the even numbers in the list: {averageEven}\")\n",
        "print(f\"All numbers in the list: {num_list}\")\n",
        "average_even(num_list)\n",
        "\n"
      ],
      "metadata": {
        "colab": {
          "base_uri": "https://localhost:8080/"
        },
        "id": "tGU3SaYw7h6y",
        "outputId": "a81d1995-2e20-40ac-e96d-f8fec2b2ca56"
      },
      "execution_count": null,
      "outputs": [
        {
          "output_type": "stream",
          "name": "stdout",
          "text": [
            "All numbers in the list: [12, 4, 5, 7, 8, 13, 10, 21]\n",
            "All even numbers in the list: [12, 4, 8, 10]\n",
            "Average of the even numbers in the list: 8.5\n"
          ]
        }
      ]
    },
    {
      "cell_type": "code",
      "source": [
        "#printing number of items in a list using *args in function\n",
        "def sum_numbers(*args): # * = tuple    #here args can be changed to any word\n",
        "  print(type(args))\n",
        "  total=0\n",
        "  for i in args:\n",
        "    total+=1\n",
        "  print(total)\n",
        "\n",
        "sum_numbers(1,2,3,4,5)"
      ],
      "metadata": {
        "colab": {
          "base_uri": "https://localhost:8080/"
        },
        "id": "H8RaLtNM_hDI",
        "outputId": "d14db8e0-9c2c-43e7-d6fe-719f49832d7d"
      },
      "execution_count": null,
      "outputs": [
        {
          "output_type": "stream",
          "name": "stdout",
          "text": [
            "<class 'tuple'>\n",
            "5\n"
          ]
        }
      ]
    },
    {
      "cell_type": "code",
      "source": [
        "def print_info(**args): # ** = dict\n",
        "  print(type(args))\n",
        "  for item,val in args.items():\n",
        "    print(f\"{item} is {val}\")\n",
        "print_info(name=\"Alan\",place=\"tvm\",Score=6)\n",
        "print_info(name=\"Saketh\",place=\"tvm\",Batch=\"DSA\")\n"
      ],
      "metadata": {
        "colab": {
          "base_uri": "https://localhost:8080/"
        },
        "id": "lEDgzikvBoUd",
        "outputId": "0fc8dae0-4697-47ec-9137-ba134a0bd1b2"
      },
      "execution_count": null,
      "outputs": [
        {
          "output_type": "stream",
          "name": "stdout",
          "text": [
            "<class 'dict'>\n",
            "name is Alan\n",
            "place is tvm\n",
            "Score is 6\n",
            "<class 'dict'>\n",
            "name is Saketh\n",
            "place is tvm\n",
            "Batch is DSA\n"
          ]
        }
      ]
    },
    {
      "cell_type": "code",
      "source": [
        "#lambda\n",
        "square=lambda x : x*x  #lambda acts similar to a function [ 'function name' = lambda 'parameter' : 'operation' ]\n",
        "square(5)"
      ],
      "metadata": {
        "colab": {
          "base_uri": "https://localhost:8080/"
        },
        "id": "DqZMIQKULiJb",
        "outputId": "2d43fe56-9c6a-469e-9102-6fbc979c5695"
      },
      "execution_count": null,
      "outputs": [
        {
          "output_type": "execute_result",
          "data": {
            "text/plain": [
              "25"
            ]
          },
          "metadata": {},
          "execution_count": 43
        }
      ]
    },
    {
      "cell_type": "code",
      "source": [
        "add=lambda x,y :x+y\n",
        "add(2,3)"
      ],
      "metadata": {
        "colab": {
          "base_uri": "https://localhost:8080/"
        },
        "id": "hr8Hr_9HNBqH",
        "outputId": "6fa27a11-bddc-43f4-8583-712cda762a2e"
      },
      "execution_count": null,
      "outputs": [
        {
          "output_type": "execute_result",
          "data": {
            "text/plain": [
              "5"
            ]
          },
          "metadata": {},
          "execution_count": 44
        }
      ]
    },
    {
      "cell_type": "code",
      "source": [
        "def Totalmark(marks):\n",
        "  return(sum(marks))\n",
        "\n",
        "FinalScore =Totalmark([10,20,30,40,50]) #list as argument\n",
        "if FinalScore>=90:\n",
        "  print(\"Grade A\")\n",
        "elif FinalScore >=80:\n",
        "  print(\"Grade B\")\n",
        "elif FinalScore >=70:\n",
        "  print(\"Grade C\")\n",
        "elif FinalScore >=60:\n",
        "  print(\"Grade D\")\n",
        "else:\n",
        "  print(\"Fail\")"
      ],
      "metadata": {
        "colab": {
          "base_uri": "https://localhost:8080/"
        },
        "id": "Pibn9j-4NO59",
        "outputId": "a09142cd-a75d-475f-ce37-db49f360cb96"
      },
      "execution_count": null,
      "outputs": [
        {
          "output_type": "stream",
          "name": "stdout",
          "text": [
            "Fail\n"
          ]
        }
      ]
    },
    {
      "cell_type": "markdown",
      "source": [
        "# **OOPS Concept**"
      ],
      "metadata": {
        "id": "hZ29RwagRLP1"
      }
    },
    {
      "cell_type": "markdown",
      "source": [
        "Class,\n",
        "Object/Instances,\n",
        "Inheritance,\n",
        "Polymorphism,\n",
        "Encapsulation,\n",
        "Abstraction"
      ],
      "metadata": {
        "id": "bCtBr_eNRX5T"
      }
    },
    {
      "cell_type": "code",
      "source": [
        "class Animal:\n",
        "  animal_type=\"Dog\"\n",
        "  num_legs=4\n",
        "  mammal=\"Yes\"\n",
        "\n",
        "  def Sound(self):\n",
        "    print(\"Animal barks\")\n",
        "\n",
        "obj1=Animal()\n",
        "obj1.Sound()\n",
        "\n",
        "obj2=Animal()\n",
        "obj2.Sound()"
      ],
      "metadata": {
        "colab": {
          "base_uri": "https://localhost:8080/"
        },
        "id": "tpZjJHaeSkxi",
        "outputId": "9f7da74d-19c3-4004-feea-f74c6dab12bf"
      },
      "execution_count": null,
      "outputs": [
        {
          "output_type": "stream",
          "name": "stdout",
          "text": [
            "Animal barks\n",
            "Animal barks\n"
          ]
        }
      ]
    },
    {
      "cell_type": "code",
      "source": [
        "class Person:\n",
        "  place=\"tvm\"\n",
        "\n",
        "  def __init__(self,name,age):\n",
        "    self.name=name\n",
        "    self.age=age\n",
        "\n",
        "  def greet(self):\n",
        "    return f\"Hi myself {self.name} and my age is {self.age} and I am from {self.place}\"\n",
        "\n",
        "obj3=Person(\"Nikhil\",25)\n",
        "obj3.greet()\n",
        "\n",
        "obj4=Person(\"Sreesanth\",20)\n",
        "obj4.greet()"
      ],
      "metadata": {
        "colab": {
          "base_uri": "https://localhost:8080/",
          "height": 36
        },
        "id": "x7B40kafUFAR",
        "outputId": "4f634b1d-f7b7-496f-a611-cdf1cbdb10b7"
      },
      "execution_count": null,
      "outputs": [
        {
          "output_type": "execute_result",
          "data": {
            "text/plain": [
              "'Hi myself Sreesanth and my age is 20 and I am from tvm'"
            ],
            "application/vnd.google.colaboratory.intrinsic+json": {
              "type": "string"
            }
          },
          "metadata": {},
          "execution_count": 60
        }
      ]
    },
    {
      "cell_type": "markdown",
      "source": [
        "## **Derived Class**"
      ],
      "metadata": {
        "id": "gGkq3-xFZbYr"
      }
    },
    {
      "cell_type": "code",
      "source": [
        "class Employee:\n",
        "  def __init__(self,name,emp_id,salary):\n",
        "    self.name=name\n",
        "    self.emp_id=emp_id\n",
        "    self.salary=salary\n",
        "  def display_info(self):\n",
        "    print(f\"Name: {self.name}\")\n",
        "    print(f\"Employee ID: {self.emp_id}\")\n",
        "    print(f\"Salary: {self.salary}\")"
      ],
      "metadata": {
        "id": "QNYTOtoLZn0B"
      },
      "execution_count": null,
      "outputs": []
    },
    {
      "cell_type": "code",
      "source": [
        "#class manager\n",
        "class Manager(Employee):\n",
        "    def __init__(self,name,emp_id,salary,dept,teamSize):\n",
        "      super().__init__(name,emp_id,salary)\n",
        "      self.dept=dept\n",
        "      self.teamSize=teamSize\n",
        "\n",
        "    def display_manager_info(self):\n",
        "      self.display_info()\n",
        "      print(f\"Department: {self.dept}\")\n",
        "      print(f\"Team Size: {self.teamSize}\")\n",
        "\n",
        "emp1=Employee(\"John Doe\",\"12345\",50000)\n",
        "emp1.display_info()\n",
        "\n",
        "manager1=Manager(\"Jane Smith\",\"6789\",80000,'IT',12)\n",
        "manager1.display_manager_info()"
      ],
      "metadata": {
        "colab": {
          "base_uri": "https://localhost:8080/"
        },
        "id": "N_lRr13He5Py",
        "outputId": "50e22637-01ca-4ee8-9851-bc3de9f2f7a0"
      },
      "execution_count": null,
      "outputs": [
        {
          "output_type": "stream",
          "name": "stdout",
          "text": [
            "Name: John Doe\n",
            "Employee ID: 12345\n",
            "Salary: 50000\n",
            "Name: Jane Smith\n",
            "Employee ID: 6789\n",
            "Salary: 80000\n",
            "Department: IT\n",
            "Team Size: 12\n"
          ]
        }
      ]
    },
    {
      "cell_type": "code",
      "source": [
        "#class team leader\n",
        "class Teamleader(Manager):\n",
        "    def __init__(self,name,emp_id,salary):\n",
        "      super().__init__(name,emp_id,salary)\n",
        "\n",
        "    def display_manager_info(self):\n",
        "      self.display_info()\n",
        "\n",
        "1=Manager(\"Jane Smith\",\"6789\",80000)\n",
        "manager1.display_manager_info()\n",
        "\n"
      ],
      "metadata": {
        "id": "CDeRjwxSfq-y"
      },
      "execution_count": null,
      "outputs": []
    }
  ]
}