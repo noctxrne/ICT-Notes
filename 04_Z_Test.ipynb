{
  "nbformat": 4,
  "nbformat_minor": 0,
  "metadata": {
    "colab": {
      "provenance": [],
      "authorship_tag": "ABX9TyPtrTQadd7epNVLANSfYzlX",
      "include_colab_link": true
    },
    "kernelspec": {
      "name": "python3",
      "display_name": "Python 3"
    },
    "language_info": {
      "name": "python"
    }
  },
  "cells": [
    {
      "cell_type": "markdown",
      "metadata": {
        "id": "view-in-github",
        "colab_type": "text"
      },
      "source": [
        "<a href=\"https://colab.research.google.com/github/noctxrne/ICT_Notes/blob/main/Z_Test.ipynb\" target=\"_parent\"><img src=\"https://colab.research.google.com/assets/colab-badge.svg\" alt=\"Open In Colab\"/></a>"
      ]
    },
    {
      "cell_type": "markdown",
      "source": [
        "# **Z Test**"
      ],
      "metadata": {
        "id": "KYHNn6p1zkoC"
      }
    },
    {
      "cell_type": "markdown",
      "source": [
        "1. State the null Hypothesis\n",
        "2. State the Alternate Hypothesis\n",
        "3. Choose your significance level\n",
        "4. Calculate your Z Test Statistic\n",
        "5. Find the p-value using Z test statistics computed\n",
        "6. If p-value < '' , then we fail to reject null Hypothesis\n",
        "7. There are one tailed and two tailed tests"
      ],
      "metadata": {
        "id": "Tz2IoibXz041"
      }
    },
    {
      "cell_type": "markdown",
      "source": [
        "# **Z-test Practice Problem**"
      ],
      "metadata": {
        "id": "uDji1h-R02wG"
      }
    },
    {
      "cell_type": "markdown",
      "source": [
        "A particular companies choclate bars are supposed to have an average weight"
      ],
      "metadata": {
        "id": "vwKWAlVf1CuI"
      }
    },
    {
      "cell_type": "code",
      "source": [
        "def meanvalue(list_):\n",
        "  sum=0\n",
        "  n=len(list_)\n",
        "  for i in list_:\n",
        "    sum+=i\n",
        "  mean=sum/n\n",
        "  return mean\n",
        "\n",
        "def stdDeviation(data):\n",
        "  score_deviation_square=[]\n",
        "  numerator_variance=0\n",
        "  sum=0\n",
        "  for i in data:\n",
        "    numerator_variance+=((i-meanvalue(data))**2)\n",
        "\n",
        "  variance=numerator_variance/(len(data)-1)\n",
        "  std_deviation=variance**(.5)\n",
        "  return std_deviation"
      ],
      "metadata": {
        "id": "WH4rJgNp-UMi"
      },
      "execution_count": null,
      "outputs": []
    },
    {
      "cell_type": "code",
      "source": [
        "sample=[50.8,49.5,50.2,51,49.7,50.3,49.8,50.5,49.6,50.1]\n",
        "x_bar=sum(sample)/len(sample)\n",
        "mu=50\n",
        "std_dev=1.5\n",
        "n=len(sample)\n",
        "z=(x_bar-mu)/(stdDeviation(sample)/n**0.5)\n",
        "print(f\"Sample mean is {x_bar}\")\n",
        "print(f\"T test statistic is {z}\")\n"
      ],
      "metadata": {
        "colab": {
          "base_uri": "https://localhost:8080/"
        },
        "id": "9BXeu2Nb49A2",
        "outputId": "18095d1a-3199-4781-d304-084474a6c966"
      },
      "execution_count": null,
      "outputs": [
        {
          "output_type": "stream",
          "name": "stdout",
          "text": [
            "Sample mean is 50.150000000000006\n",
            "T test statistic is 0.9292682312599877\n"
          ]
        }
      ]
    },
    {
      "cell_type": "code",
      "source": [
        "def oneTailed(x_bar1,x_bar2,list1,list2,n1,n2):\n",
        "  t1=(x_bar1-x_bar2)/((stdDeviation(list1)**2)/n1+(stdDeviation(list2)**2)/n2)**0.5\n",
        "  print(f\"T-test Statistic for One Tailed is {t1}\")\n",
        "\n",
        "def twoTailed(x_bar1,x_bar2,list1,list2,n1,n2):\n",
        "  sp= ((((n1 - 1) * (stdDeviation(list1) ** 2)) + ((n2 - 1) * (stdDeviation(list2) ** 2))) / (n1 + n2 - 2))**.5\n",
        "  t2=(x_bar1-x_bar2)/sp*(1/n1+1/n2)**0.5\n",
        "  print(f\"T-test Statistic for Two Tailed is {t2}\")\n",
        "\n",
        "list1=[49.5, 50.1, 49.8,50.3, 50]\n",
        "list2=[50.4, 49.9, 50.6, 50.2, 50.1]\n",
        "x_bar1=sum(list1)/len(list1)\n",
        "x_bar2=sum(list2)/len(list2)\n",
        "n1=len(list1)\n",
        "n2=len(list2)\n",
        "oneTailed(x_bar1,x_bar2,list1,list2,n1,n2)\n",
        "twoTailed(x_bar1,x_bar2,list1,list2,n1,n2)"
      ],
      "metadata": {
        "colab": {
          "base_uri": "https://localhost:8080/"
        },
        "id": "3rCd5uY2-SAI",
        "outputId": "09d54b22-454b-46d6-d6b5-a068d1037707"
      },
      "execution_count": null,
      "outputs": [
        {
          "output_type": "stream",
          "name": "stdout",
          "text": [
            "T-test Statistic for One Tailed is -1.6464638998453784\n",
            "T-test Statistic for Two Tailed is -0.6585855599381513\n"
          ]
        }
      ]
    },
    {
      "cell_type": "code",
      "source": [
        "boys=[50,81,61,63,83,64,75,43]\n",
        "girls=[48,50,39,53,60,47,60,55,52,52,63,49]\n",
        "\n",
        "x_bar1=sum(boys)/len(boys)\n",
        "x_bar2=sum(girls)/len(girls)\n",
        "n1=len(boys)\n",
        "n2=len(girls)\n",
        "print(f\"boys mean: {x_bar1}\")\n",
        "print(f\"girls mean: {x_bar2}\")\n",
        "print(f\"boys deviation: {stdDeviation(list1)}\")\n",
        "print(f\"girls deviation: {stdDeviation(list2)}\")\n",
        "oneTailed(x_bar1,x_bar2,boys,girls,n1,n2)\n",
        "twoTailed(x_bar1,x_bar2,boys,girls,n1,n2)"
      ],
      "metadata": {
        "colab": {
          "base_uri": "https://localhost:8080/"
        },
        "id": "syHSZil4UvP_",
        "outputId": "c8fa0734-dc8a-4ac2-9a4f-30d043fe8b0e"
      },
      "execution_count": null,
      "outputs": [
        {
          "output_type": "stream",
          "name": "stdout",
          "text": [
            "boys mean: 65.0\n",
            "girls mean: 52.333333333333336\n",
            "boys deviation: 0.3049590136395378\n",
            "girls deviation: 0.27018512172212633\n",
            "T-test Statistic for One Tailed is 2.3594754470187445\n",
            "T-test Statistic for Two Tailed is 0.5641186943094453\n"
          ]
        }
      ]
    }
  ]
}
