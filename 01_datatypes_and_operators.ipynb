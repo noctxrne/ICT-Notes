{
  "nbformat": 4,
  "nbformat_minor": 0,
  "metadata": {
    "colab": {
      "provenance": [],
      "collapsed_sections": [
        "sN7-KfnILuyZ",
        "BrCQx60-PlI-",
        "rkIpWxuZWfZ8",
        "o787ZrqoWC9p",
        "fX4sCe7GWObl",
        "04FwunmzZ1K-",
        "xGKxcca6oI9i",
        "_vj6JSPFq0W7",
        "F4MTDkIBq_fM",
        "YMnlL_I4rs8J",
        "jpE-yvoAtYnr",
        "gKTIidpwtEiE",
        "IbmxBoVpunQf",
        "EG-CHp_ivD8s",
        "nb95ShDazIk0",
        "eSoepaRo25XH",
        "UkS9OaC35sFf",
        "4KUKM7qtA4v5",
        "7b01czwSQBoO",
        "qC_gn2vrUCf6",
        "rIt5ZdArUhzA"
      ],
      "authorship_tag": "ABX9TyOf/kb1jqZXK8p9DOevAr7Z",
      "include_colab_link": true
    },
    "kernelspec": {
      "name": "python3",
      "display_name": "Python 3"
    },
    "language_info": {
      "name": "python"
    }
  },
  "cells": [
    {
      "cell_type": "markdown",
      "metadata": {
        "id": "view-in-github",
        "colab_type": "text"
      },
      "source": [
        "<a href=\"https://colab.research.google.com/github/noctxrne/ICT_Notes/blob/main/01_datatypes_and_operators.ipynb\" target=\"_parent\"><img src=\"https://colab.research.google.com/assets/colab-badge.svg\" alt=\"Open In Colab\"/></a>"
      ]
    },
    {
      "cell_type": "markdown",
      "source": [
        "# **Variables and Datatypes in Python**"
      ],
      "metadata": {
        "id": "sN7-KfnILuyZ"
      }
    },
    {
      "cell_type": "code",
      "execution_count": null,
      "metadata": {
        "id": "wbR0aHVhKuVR"
      },
      "outputs": [],
      "source": [
        "age='a'"
      ]
    },
    {
      "cell_type": "code",
      "source": [
        "print(age)"
      ],
      "metadata": {
        "colab": {
          "base_uri": "https://localhost:8080/"
        },
        "id": "IZI2SIbTLheP",
        "outputId": "97a826a6-5f24-4d2f-fe68-802aed8abd56"
      },
      "execution_count": null,
      "outputs": [
        {
          "output_type": "stream",
          "name": "stdout",
          "text": [
            "a\n"
          ]
        }
      ]
    },
    {
      "cell_type": "code",
      "source": [
        "type(age)"
      ],
      "metadata": {
        "colab": {
          "base_uri": "https://localhost:8080/"
        },
        "id": "oQ0KmCP-ME_m",
        "outputId": "babdeffa-35ef-4f8e-eeab-7d61cfefaa4a"
      },
      "execution_count": null,
      "outputs": [
        {
          "output_type": "execute_result",
          "data": {
            "text/plain": [
              "str"
            ]
          },
          "metadata": {},
          "execution_count": 25
        }
      ]
    },
    {
      "cell_type": "code",
      "source": [
        "print(100)"
      ],
      "metadata": {
        "colab": {
          "base_uri": "https://localhost:8080/"
        },
        "id": "q5QkjoQvLNVS",
        "outputId": "4db01477-5c9c-4258-97f9-30ede4255f8e"
      },
      "execution_count": null,
      "outputs": [
        {
          "output_type": "stream",
          "name": "stdout",
          "text": [
            "100\n"
          ]
        }
      ]
    },
    {
      "cell_type": "markdown",
      "source": [
        "## **Sequence**"
      ],
      "metadata": {
        "id": "BrCQx60-PlI-"
      }
    },
    {
      "cell_type": "markdown",
      "source": [
        "**List**"
      ],
      "metadata": {
        "id": "mlWLlP8zQ073"
      }
    },
    {
      "cell_type": "code",
      "source": [
        "days=[7,9,0]\n",
        "type(days)"
      ],
      "metadata": {
        "colab": {
          "base_uri": "https://localhost:8080/"
        },
        "id": "wqKIV-ARPrTK",
        "outputId": "41770f9c-1039-4817-fb97-a68b56b58d59"
      },
      "execution_count": null,
      "outputs": [
        {
          "output_type": "execute_result",
          "data": {
            "text/plain": [
              "list"
            ]
          },
          "metadata": {},
          "execution_count": 33
        }
      ]
    },
    {
      "cell_type": "markdown",
      "source": [
        "**Tuple**"
      ],
      "metadata": {
        "id": "mJGwQ6iyRN1n"
      }
    },
    {
      "cell_type": "code",
      "source": [
        "marks=('Student1',98,'Student2',90)\n",
        "print(marks)"
      ],
      "metadata": {
        "colab": {
          "base_uri": "https://localhost:8080/"
        },
        "id": "F3JFMDzsQZJi",
        "outputId": "e57df527-1890-48c3-dd4b-cd57de8edece"
      },
      "execution_count": null,
      "outputs": [
        {
          "output_type": "stream",
          "name": "stdout",
          "text": [
            "('Student1', 98, 'Student2', 90)\n"
          ]
        }
      ]
    },
    {
      "cell_type": "markdown",
      "source": [
        "**Range**\n",
        "(to print numbers)"
      ],
      "metadata": {
        "id": "3A-cPDcHRXac"
      }
    },
    {
      "cell_type": "code",
      "source": [
        "list(range(5))"
      ],
      "metadata": {
        "colab": {
          "base_uri": "https://localhost:8080/"
        },
        "id": "quckOeT7RrhB",
        "outputId": "9afab6db-9423-4d39-9888-c91e30616c73"
      },
      "execution_count": null,
      "outputs": [
        {
          "output_type": "execute_result",
          "data": {
            "text/plain": [
              "[0, 1, 2, 3, 4]"
            ]
          },
          "metadata": {},
          "execution_count": 37
        }
      ]
    },
    {
      "cell_type": "code",
      "source": [
        "list(range(2,5))"
      ],
      "metadata": {
        "colab": {
          "base_uri": "https://localhost:8080/"
        },
        "id": "huXp5gv7RZc1",
        "outputId": "596cc689-4ba6-4a78-96e9-d6ddfb1bc50f"
      },
      "execution_count": null,
      "outputs": [
        {
          "output_type": "execute_result",
          "data": {
            "text/plain": [
              "[2, 3, 4]"
            ]
          },
          "metadata": {},
          "execution_count": 36
        }
      ]
    },
    {
      "cell_type": "code",
      "source": [
        "list(range(7,2,-1))"
      ],
      "metadata": {
        "colab": {
          "base_uri": "https://localhost:8080/"
        },
        "id": "yOSbvIVXSjkF",
        "outputId": "4bb6421f-70ed-4dc1-cb63-6978c7bb1e6d"
      },
      "execution_count": null,
      "outputs": [
        {
          "output_type": "execute_result",
          "data": {
            "text/plain": [
              "[7, 6, 5, 4, 3]"
            ]
          },
          "metadata": {},
          "execution_count": 43
        }
      ]
    },
    {
      "cell_type": "markdown",
      "source": [
        "Third number or step value means how much should we increment"
      ],
      "metadata": {
        "id": "qm3W1TyeSpyV"
      }
    },
    {
      "cell_type": "code",
      "source": [
        "list(range(10,-1,-1))"
      ],
      "metadata": {
        "colab": {
          "base_uri": "https://localhost:8080/"
        },
        "id": "u5wbsIklTMZv",
        "outputId": "573b6f75-1dcb-4ed6-9aed-50631368b4af"
      },
      "execution_count": null,
      "outputs": [
        {
          "output_type": "execute_result",
          "data": {
            "text/plain": [
              "[10, 9, 8, 7, 6, 5, 4, 3, 2, 1, 0]"
            ]
          },
          "metadata": {},
          "execution_count": 44
        }
      ]
    },
    {
      "cell_type": "markdown",
      "source": [
        "## **Mapping Type**"
      ],
      "metadata": {
        "id": "rkIpWxuZWfZ8"
      }
    },
    {
      "cell_type": "markdown",
      "source": [
        "**Dictionary**\n"
      ],
      "metadata": {
        "id": "Z6e3ES09Tfsq"
      }
    },
    {
      "cell_type": "code",
      "source": [
        "details={'batch':7,'course': 'DSA'}\n",
        "details['course']"
      ],
      "metadata": {
        "colab": {
          "base_uri": "https://localhost:8080/",
          "height": 35
        },
        "id": "Re2CPTPrT1nl",
        "outputId": "76eaf184-a208-41fc-b8dc-113cdd7263ea"
      },
      "execution_count": null,
      "outputs": [
        {
          "output_type": "execute_result",
          "data": {
            "text/plain": [
              "'DSA'"
            ],
            "application/vnd.google.colaboratory.intrinsic+json": {
              "type": "string"
            }
          },
          "metadata": {},
          "execution_count": 49
        }
      ]
    },
    {
      "cell_type": "code",
      "source": [
        "type(details)"
      ],
      "metadata": {
        "colab": {
          "base_uri": "https://localhost:8080/"
        },
        "id": "TQ-BVHO1UZZ0",
        "outputId": "7e5d565e-268b-4fe3-bf0d-4daabd0e90b7"
      },
      "execution_count": null,
      "outputs": [
        {
          "output_type": "execute_result",
          "data": {
            "text/plain": [
              "dict"
            ]
          },
          "metadata": {},
          "execution_count": 48
        }
      ]
    },
    {
      "cell_type": "code",
      "source": [
        "details['location']='TVM'\n",
        "print(details)"
      ],
      "metadata": {
        "colab": {
          "base_uri": "https://localhost:8080/"
        },
        "id": "lxcKY_pcUiLk",
        "outputId": "993ebf4d-5ee0-4a2e-d3ed-443c9f1d3190"
      },
      "execution_count": null,
      "outputs": [
        {
          "output_type": "stream",
          "name": "stdout",
          "text": [
            "{'batch': 7, 'course': 'DSA', 'location': 'TVM'}\n"
          ]
        }
      ]
    },
    {
      "cell_type": "code",
      "source": [
        "print (details.keys())\n",
        "print (details.values())"
      ],
      "metadata": {
        "colab": {
          "base_uri": "https://localhost:8080/"
        },
        "id": "oLZccpiaVAdz",
        "outputId": "112caa47-d751-42a1-8e7e-f65b295d1d66"
      },
      "execution_count": null,
      "outputs": [
        {
          "output_type": "stream",
          "name": "stdout",
          "text": [
            "dict_keys(['batch', 'course', 'location'])\n",
            "dict_values([7, 'DSA', 'TVM'])\n"
          ]
        }
      ]
    },
    {
      "cell_type": "markdown",
      "source": [
        "## **Set Datatype**"
      ],
      "metadata": {
        "id": "o787ZrqoWC9p"
      }
    },
    {
      "cell_type": "markdown",
      "source": [
        "Selects unique numbers an displays as set in order"
      ],
      "metadata": {
        "id": "nDJw2bAoZP28"
      }
    },
    {
      "cell_type": "code",
      "source": [
        "data=[1,4,3,2,5,6,6,6,64,4,2,0]\n",
        "set(data)"
      ],
      "metadata": {
        "colab": {
          "base_uri": "https://localhost:8080/"
        },
        "id": "B5rPwfUPZH6Q",
        "outputId": "66c4aff0-c44f-4163-81ef-f420daf7f4f5"
      },
      "execution_count": null,
      "outputs": [
        {
          "output_type": "execute_result",
          "data": {
            "text/plain": [
              "{0, 1, 2, 3, 4, 5, 6, 64}"
            ]
          },
          "metadata": {},
          "execution_count": 61
        }
      ]
    },
    {
      "cell_type": "markdown",
      "source": [
        "## **Boolean**"
      ],
      "metadata": {
        "id": "fX4sCe7GWObl"
      }
    },
    {
      "cell_type": "code",
      "source": [
        "engine_on=False\n",
        "engine_off=True\n",
        "type(engine_off)\n",
        "print(engine_on)"
      ],
      "metadata": {
        "colab": {
          "base_uri": "https://localhost:8080/"
        },
        "id": "AE9fOoEAYC24",
        "outputId": "1c285b7a-155e-4858-a943-3baad649f564"
      },
      "execution_count": null,
      "outputs": [
        {
          "output_type": "stream",
          "name": "stdout",
          "text": [
            "False\n"
          ]
        }
      ]
    },
    {
      "cell_type": "markdown",
      "source": [
        "## **None**"
      ],
      "metadata": {
        "id": "iEwh8JchWIQO"
      }
    },
    {
      "cell_type": "code",
      "source": [
        "value= None\n",
        "type(value)"
      ],
      "metadata": {
        "colab": {
          "base_uri": "https://localhost:8080/"
        },
        "id": "kgX56dwNYjPw",
        "outputId": "c20880cb-7dc0-4974-c993-3cb0b25ac828"
      },
      "execution_count": null,
      "outputs": [
        {
          "output_type": "execute_result",
          "data": {
            "text/plain": [
              "NoneType"
            ]
          },
          "metadata": {},
          "execution_count": 60
        }
      ]
    },
    {
      "cell_type": "markdown",
      "source": [
        "# **Activity**"
      ],
      "metadata": {
        "id": "04FwunmzZ1K-"
      }
    },
    {
      "cell_type": "markdown",
      "source": [
        "**Birthdate**"
      ],
      "metadata": {
        "id": "0O5FSWOjaZdP"
      }
    },
    {
      "cell_type": "code",
      "source": [
        "year_of_birth=1990\n",
        "age=2025-year_of_birth\n",
        "print(age)"
      ],
      "metadata": {
        "colab": {
          "base_uri": "https://localhost:8080/"
        },
        "id": "b5o_g4vRahj0",
        "outputId": "5deaffe7-8570-4231-e116-bc6dfad0338a"
      },
      "execution_count": null,
      "outputs": [
        {
          "output_type": "stream",
          "name": "stdout",
          "text": [
            "35\n"
          ]
        }
      ]
    },
    {
      "cell_type": "markdown",
      "source": [
        "**Bio Data**"
      ],
      "metadata": {
        "id": "Sa5doUwxZ_Px"
      }
    },
    {
      "cell_type": "code",
      "source": [
        "biodata={'Name1':'Nikhil','Age1': 25,'Location1':'Idukki',\n",
        "         'Name2':'Sreesanth','Age2': 20,'Location2':'Pathanamthitta',\n",
        "         'Name3':'Saketh','Age3': 23,'Location3':'Tvm'}\n",
        "print(biodata)"
      ],
      "metadata": {
        "id": "SC2ZgW2LazOR"
      },
      "execution_count": null,
      "outputs": []
    },
    {
      "cell_type": "markdown",
      "source": [
        "**List**"
      ],
      "metadata": {
        "id": "XZxnAl3qeQaj"
      }
    },
    {
      "cell_type": "code",
      "source": [
        "list_1=list(range(99,0,-2))\n",
        "print(list_1)"
      ],
      "metadata": {
        "colab": {
          "base_uri": "https://localhost:8080/"
        },
        "id": "kryVPY1ueQal",
        "outputId": "f952e04b-ce71-4bf9-dc62-e040e99c3a24"
      },
      "execution_count": null,
      "outputs": [
        {
          "output_type": "stream",
          "name": "stdout",
          "text": [
            "[99, 97, 95, 93, 91, 89, 87, 85, 83, 81, 79, 77, 75, 73, 71, 69, 67, 65, 63, 61, 59, 57, 55, 53, 51, 49, 47, 45, 43, 41, 39, 37, 35, 33, 31, 29, 27, 25, 23, 21, 19, 17, 15, 13, 11, 9, 7, 5, 3, 1]\n"
          ]
        }
      ]
    },
    {
      "cell_type": "markdown",
      "source": [
        "**To Do List**"
      ],
      "metadata": {
        "id": "n8ZUryn_e7f-"
      }
    },
    {
      "cell_type": "code",
      "source": [
        "to_do_list=['Wash clothes','Prepare notes','Drink Water','Take Medicine','Read']\n",
        "print(to_do_list[1])\n",
        "print(to_do_list[-2])"
      ],
      "metadata": {
        "colab": {
          "base_uri": "https://localhost:8080/"
        },
        "id": "INtSvIMde7gA",
        "outputId": "ba50382b-b818-4569-ef2b-bf895c6d95a9"
      },
      "execution_count": null,
      "outputs": [
        {
          "output_type": "stream",
          "name": "stdout",
          "text": [
            "Prepare notes\n",
            "Take Medicine\n"
          ]
        }
      ]
    },
    {
      "cell_type": "markdown",
      "source": [
        "**Length of name**"
      ],
      "metadata": {
        "id": "cGmjESRngCdq"
      }
    },
    {
      "cell_type": "code",
      "source": [
        "my_name='saketh'\n",
        "print(len(my_name))"
      ],
      "metadata": {
        "colab": {
          "base_uri": "https://localhost:8080/"
        },
        "outputId": "80098cbe-6087-466b-c8c0-3686a71b543f",
        "id": "aIPdasrUgCdr"
      },
      "execution_count": null,
      "outputs": [
        {
          "output_type": "stream",
          "name": "stdout",
          "text": [
            "6\n"
          ]
        }
      ]
    },
    {
      "cell_type": "markdown",
      "source": [
        "**Arithematic operations on User given numbers**"
      ],
      "metadata": {
        "id": "G6UYoKpkgovc"
      }
    },
    {
      "cell_type": "code",
      "source": [
        "number1=int(input('Enter first number:'))\n",
        "number2=int(input('Enter first number:'))\n",
        "print(\"Sum of numbers is\",number1 + number2)\n",
        "print(\"Difference of numbers is\",number1 - number2)\n",
        "print(\"Product of numbers is\",number1 * number2)\n",
        "print(\"Quotient of numbers is\",number1 / number2)"
      ],
      "metadata": {
        "colab": {
          "base_uri": "https://localhost:8080/"
        },
        "outputId": "ebf2b340-60ba-4f2f-dafd-255bc41d894d",
        "id": "YkhIbODWgovf"
      },
      "execution_count": null,
      "outputs": [
        {
          "output_type": "stream",
          "name": "stdout",
          "text": [
            "Enter first number:2\n",
            "Enter first number:3\n",
            "Sum of numbers is 5\n",
            "Difference of numbers is -1\n",
            "Product of numbers is 6\n",
            "Quotient of numbers is 0.6666666666666666\n"
          ]
        }
      ]
    },
    {
      "cell_type": "markdown",
      "source": [
        "**Birthdate**"
      ],
      "metadata": {
        "id": "AZr2--nHiM9K"
      }
    },
    {
      "cell_type": "code",
      "source": [
        "year_of_birth=int(input(\"Enter your birth year: \"))\n",
        "age=2025-year_of_birth\n",
        "print(\"Your year of birth: \",year_of_birth)\n",
        "print(\"Your age would be: \",age)"
      ],
      "metadata": {
        "colab": {
          "base_uri": "https://localhost:8080/"
        },
        "outputId": "aa5daacc-af0f-4375-c6d7-ffa99a64909c",
        "id": "TTtsS_guiM9M"
      },
      "execution_count": null,
      "outputs": [
        {
          "output_type": "stream",
          "name": "stdout",
          "text": [
            "Enter your birth year: 2002\n",
            "Your year of birth:  2002\n",
            "Your age would be:  23\n"
          ]
        }
      ]
    },
    {
      "cell_type": "markdown",
      "source": [
        "# **Operators**"
      ],
      "metadata": {
        "id": "xGKxcca6oI9i"
      }
    },
    {
      "cell_type": "markdown",
      "source": [
        "### **Arithematic Operators**"
      ],
      "metadata": {
        "id": "_vj6JSPFq0W7"
      }
    },
    {
      "cell_type": "code",
      "source": [
        "number1=int(input('Enter first number:'))\n",
        "number2=int(input('Enter first number:'))\n",
        "print(\"Sum of numbers is\",number1 + number2)\n",
        "print(\"Difference of numbers is\",number1 - number2)\n",
        "print(\"Product of numbers is\",number1 * number2)\n",
        "print(\"Remainder of numbers is\",number1 % number2)\n",
        "print(\"Exoponent of numbers is\",number1 ** number2)\n",
        "print(\"Floor Division of numbers is\",number1 // number2)\n"
      ],
      "metadata": {
        "colab": {
          "base_uri": "https://localhost:8080/"
        },
        "outputId": "8d6f2761-b79c-48a0-9b9e-8e9b5e7c41ce",
        "id": "_jgWchZ4oI9i"
      },
      "execution_count": null,
      "outputs": [
        {
          "output_type": "stream",
          "name": "stdout",
          "text": [
            "Enter first number:3\n",
            "Enter first number:5\n",
            "Sum of numbers is 8\n",
            "Difference of numbers is -2\n",
            "Product of numbers is 15\n",
            "Remainder of numbers is 3\n",
            "Exoponent of numbers is 243\n",
            "Floor Division of numbers is 0\n"
          ]
        }
      ]
    },
    {
      "cell_type": "markdown",
      "source": [
        "### **Comparison Operator**"
      ],
      "metadata": {
        "id": "F4MTDkIBq_fM"
      }
    },
    {
      "cell_type": "markdown",
      "source": [
        "**>  ,  <  ,  == ,  >=  ,  <=  , !=**"
      ],
      "metadata": {
        "id": "rQ_63_qFridK"
      }
    },
    {
      "cell_type": "markdown",
      "source": [
        "### **Logical Operator**"
      ],
      "metadata": {
        "id": "YMnlL_I4rs8J"
      }
    },
    {
      "cell_type": "code",
      "source": [
        "print(True or False)"
      ],
      "metadata": {
        "colab": {
          "base_uri": "https://localhost:8080/"
        },
        "id": "sjZAx7CusCId",
        "outputId": "235e34da-be4e-4a29-d11e-223c2e1dbc21"
      },
      "execution_count": null,
      "outputs": [
        {
          "output_type": "stream",
          "name": "stdout",
          "text": [
            "True\n"
          ]
        }
      ]
    },
    {
      "cell_type": "code",
      "source": [
        "print(True and False)"
      ],
      "metadata": {
        "colab": {
          "base_uri": "https://localhost:8080/"
        },
        "outputId": "b0ce2fb2-2d4e-44cd-c8c5-970d35839f8c",
        "id": "wYtGTDfNshMH"
      },
      "execution_count": null,
      "outputs": [
        {
          "output_type": "stream",
          "name": "stdout",
          "text": [
            "False\n"
          ]
        }
      ]
    },
    {
      "cell_type": "code",
      "source": [
        "print(not False)"
      ],
      "metadata": {
        "colab": {
          "base_uri": "https://localhost:8080/"
        },
        "outputId": "619dc4fc-6250-4406-a5b3-c67dbad268c9",
        "id": "TgduNZ9UshTF"
      },
      "execution_count": null,
      "outputs": [
        {
          "output_type": "stream",
          "name": "stdout",
          "text": [
            "True\n"
          ]
        }
      ]
    },
    {
      "cell_type": "markdown",
      "source": [
        "### **Membership Operator**"
      ],
      "metadata": {
        "id": "jpE-yvoAtYnr"
      }
    },
    {
      "cell_type": "code",
      "source": [
        "#In\n",
        "print(2 in [1,2,3,4,5])\n"
      ],
      "metadata": {
        "colab": {
          "base_uri": "https://localhost:8080/"
        },
        "id": "l3Kn7Fc4tYns",
        "outputId": "a534a60c-76d8-4673-91fb-8b150d683ec3"
      },
      "execution_count": null,
      "outputs": [
        {
          "output_type": "stream",
          "name": "stdout",
          "text": [
            "True\n"
          ]
        }
      ]
    },
    {
      "cell_type": "code",
      "source": [
        "#not in\n",
        "print(2 not in [1,2,3,4,5])"
      ],
      "metadata": {
        "colab": {
          "base_uri": "https://localhost:8080/"
        },
        "outputId": "797a803a-56ed-4c3e-e840-aafbf7a848e2",
        "id": "Jjg7XBTZtvON"
      },
      "execution_count": null,
      "outputs": [
        {
          "output_type": "stream",
          "name": "stdout",
          "text": [
            "False\n"
          ]
        }
      ]
    },
    {
      "cell_type": "markdown",
      "source": [
        "### **Identity Operator**"
      ],
      "metadata": {
        "id": "gKTIidpwtEiE"
      }
    },
    {
      "cell_type": "code",
      "source": [
        "#is\n",
        "a=8\n",
        "b=7\n",
        "print(a is b)\n",
        "c=8\n",
        "print(a is c)"
      ],
      "metadata": {
        "colab": {
          "base_uri": "https://localhost:8080/"
        },
        "id": "CocWpAKetNuA",
        "outputId": "530843a5-6ebf-432b-e3c1-cf59a34d82dd"
      },
      "execution_count": null,
      "outputs": [
        {
          "output_type": "stream",
          "name": "stdout",
          "text": [
            "False\n",
            "True\n"
          ]
        }
      ]
    },
    {
      "cell_type": "code",
      "source": [
        "# is not\n",
        "print (a is not b)"
      ],
      "metadata": {
        "colab": {
          "base_uri": "https://localhost:8080/"
        },
        "id": "jq4ldAxZuJDs",
        "outputId": "9c5d5f7e-2c9f-4a87-c93f-b58bca5a4aac"
      },
      "execution_count": null,
      "outputs": [
        {
          "output_type": "stream",
          "name": "stdout",
          "text": [
            "True\n"
          ]
        }
      ]
    },
    {
      "cell_type": "markdown",
      "source": [
        "# **Overriding**"
      ],
      "metadata": {
        "id": "IbmxBoVpunQf"
      }
    },
    {
      "cell_type": "code",
      "source": [
        "message =input (\"Enter greeting message:\")+\"\\n\"\n",
        "print(message*5)"
      ],
      "metadata": {
        "colab": {
          "base_uri": "https://localhost:8080/"
        },
        "id": "moLt9kSduQbZ",
        "outputId": "39bd297f-8f2a-4abb-df76-0ea017ede865"
      },
      "execution_count": null,
      "outputs": [
        {
          "output_type": "stream",
          "name": "stdout",
          "text": [
            "Enter greeting message:Hi\n",
            "Hi\n",
            "Hi\n",
            "Hi\n",
            "Hi\n",
            "Hi\n",
            "\n"
          ]
        }
      ]
    },
    {
      "cell_type": "markdown",
      "source": [
        "# **Indexing**"
      ],
      "metadata": {
        "id": "EG-CHp_ivD8s"
      }
    },
    {
      "cell_type": "code",
      "source": [
        "greeting =\"Well Done\"\n",
        "print(greeting[0])\n",
        "print(greeting[1])\n",
        "print(greeting[2])\n",
        "print(greeting[3])\n",
        "print(greeting[5:9])\n",
        "print(greeting[0:4:2])\n",
        "print(greeting[0:9])\n",
        "print(greeting[9::-1])"
      ],
      "metadata": {
        "colab": {
          "base_uri": "https://localhost:8080/"
        },
        "outputId": "b429d573-4fb7-4cbf-af1d-2325ee5bb716",
        "id": "GbU8zKhavD8t"
      },
      "execution_count": null,
      "outputs": [
        {
          "output_type": "stream",
          "name": "stdout",
          "text": [
            "W\n",
            "e\n",
            "l\n",
            "l\n",
            "Done\n",
            "Wl\n",
            "Well Done\n",
            "enoD lleW\n"
          ]
        }
      ]
    },
    {
      "cell_type": "markdown",
      "source": [],
      "metadata": {
        "id": "9WrwRRzkvlWq"
      }
    },
    {
      "cell_type": "markdown",
      "source": [
        "# **Split**"
      ],
      "metadata": {
        "id": "nb95ShDazIk0"
      }
    },
    {
      "cell_type": "code",
      "source": [
        "message=\"Hello I am X\"\n",
        "print(message.split())\n",
        "print(message.split()[0])\n",
        "print(message.split()[1])\n",
        "print(message.split()[2])\n",
        "print(message.split()[3])"
      ],
      "metadata": {
        "colab": {
          "base_uri": "https://localhost:8080/"
        },
        "id": "-a3Ek05_zR8P",
        "outputId": "83c308bf-5650-4d8f-a463-a67aff639daa"
      },
      "execution_count": null,
      "outputs": [
        {
          "output_type": "stream",
          "name": "stdout",
          "text": [
            "['Hello', 'I', 'am', 'X']\n",
            "Hello\n",
            "I\n",
            "am\n",
            "X\n"
          ]
        }
      ]
    },
    {
      "cell_type": "markdown",
      "source": [
        "# **Palindrome**"
      ],
      "metadata": {
        "id": "HxdQdfgDzU2J"
      }
    },
    {
      "cell_type": "code",
      "source": [
        "word=str(input(\"Enter a word:\"))\n",
        "word==word[len(word)::-1]"
      ],
      "metadata": {
        "colab": {
          "base_uri": "https://localhost:8080/"
        },
        "id": "2NAOKAhmzU2K",
        "outputId": "29042bb9-add6-4fa4-e4e8-fa7d4b28568e"
      },
      "execution_count": null,
      "outputs": [
        {
          "name": "stdout",
          "output_type": "stream",
          "text": [
            "Enter a word:racecar\n"
          ]
        },
        {
          "output_type": "execute_result",
          "data": {
            "text/plain": [
              "True"
            ]
          },
          "metadata": {},
          "execution_count": 114
        }
      ]
    },
    {
      "cell_type": "code",
      "source": [
        "word=str(input(\"Enter a word:\"))\n",
        "word==word[::-1]"
      ],
      "metadata": {
        "colab": {
          "base_uri": "https://localhost:8080/"
        },
        "outputId": "e21a8b7d-2ce0-4493-ba9f-4e1354139202",
        "id": "vhJmf0rM1NwH"
      },
      "execution_count": null,
      "outputs": [
        {
          "name": "stdout",
          "output_type": "stream",
          "text": [
            "Enter a word:racecar\n"
          ]
        },
        {
          "output_type": "execute_result",
          "data": {
            "text/plain": [
              "True"
            ]
          },
          "metadata": {},
          "execution_count": 115
        }
      ]
    },
    {
      "cell_type": "markdown",
      "source": [
        "# **String number to Word**"
      ],
      "metadata": {
        "id": "eSoepaRo25XH"
      }
    },
    {
      "cell_type": "code",
      "source": [
        "word=[\"zero\",\"one\",\"two\",\"three\",\"four\",\"five\",\"six\",\"seven\",\"eight\",\"nine\"]\n",
        "digit=int(input(\"Enter Digit:\"))\n",
        "print(word[digit])"
      ],
      "metadata": {
        "colab": {
          "base_uri": "https://localhost:8080/"
        },
        "outputId": "207f7e78-e771-4500-efda-8f5d7a23b4cf",
        "id": "qqkFIsi_25XJ"
      },
      "execution_count": null,
      "outputs": [
        {
          "output_type": "stream",
          "name": "stdout",
          "text": [
            "Enter Digit:7\n",
            "seven\n"
          ]
        }
      ]
    },
    {
      "cell_type": "markdown",
      "source": [
        "# **String Word to number**"
      ],
      "metadata": {
        "id": "UkS9OaC35sFf"
      }
    },
    {
      "cell_type": "code",
      "source": [
        "words=(input(\"Enter number in words:\")).split()\n",
        "num={'zero':0,'one':1,'two':2,'three':3,'four':4,'five':5,'six':6,'seven':7,'eight':8,'nine':9}\n",
        "print(num[words[0]])"
      ],
      "metadata": {
        "id": "diZgE5kB5sFl",
        "colab": {
          "base_uri": "https://localhost:8080/"
        },
        "outputId": "f56307f6-8c45-456b-c21d-10d3db0302fc"
      },
      "execution_count": null,
      "outputs": [
        {
          "output_type": "stream",
          "name": "stdout",
          "text": [
            "Enter number in words:three\n",
            "3\n"
          ]
        }
      ]
    },
    {
      "cell_type": "markdown",
      "source": [
        "# **4 Word to number**"
      ],
      "metadata": {
        "id": "4KUKM7qtA4v5"
      }
    },
    {
      "cell_type": "code",
      "source": [
        "words=(input(\"Enter number in words:\")).split()\n",
        "num={'zero':0,'one':1,'two':2,'three':3,'four':4,'five':5,'six':6,'seven':7,'eight':8,'nine':9}\n",
        "print(num[words[0]],num[words[1]],num[words[2]],num[words[3]])"
      ],
      "metadata": {
        "colab": {
          "base_uri": "https://localhost:8080/"
        },
        "outputId": "6fe5369d-c65b-4d5b-d406-959432db8058",
        "id": "ugLOWMb-A4v7"
      },
      "execution_count": null,
      "outputs": [
        {
          "output_type": "stream",
          "name": "stdout",
          "text": [
            "Enter number in words:four five two six\n",
            "4 5 2 6\n"
          ]
        }
      ]
    },
    {
      "cell_type": "markdown",
      "source": [
        "# **Control Flow**"
      ],
      "metadata": {
        "id": "DTNFfKt_P2cj"
      }
    },
    {
      "cell_type": "markdown",
      "source": [
        "### **IF**"
      ],
      "metadata": {
        "id": "7b01czwSQBoO"
      }
    },
    {
      "cell_type": "code",
      "source": [
        "age=int(input(\"Enter your age:\"))\n",
        "if age>=18 :\n",
        "  print(\"You're eligible to vote\")\n",
        "if age<18:\n",
        "  print(\"You're not eligible to vote\")"
      ],
      "metadata": {
        "colab": {
          "base_uri": "https://localhost:8080/"
        },
        "id": "apsvNIkXSGPX",
        "outputId": "ea3e74b3-fc99-4aad-ed07-2c0a6a0e88bb"
      },
      "execution_count": null,
      "outputs": [
        {
          "output_type": "stream",
          "name": "stdout",
          "text": [
            "Enter your age:17\n",
            "You're not eligible to vote\n"
          ]
        }
      ]
    },
    {
      "cell_type": "markdown",
      "source": [
        "### **IF-ELSE**"
      ],
      "metadata": {
        "id": "qC_gn2vrUCf6"
      }
    },
    {
      "cell_type": "code",
      "source": [
        "age=int(input(\"Enter your age:\"))\n",
        "if age>=18 :\n",
        "  print(\"You're eligible to vote\")\n",
        "else:\n",
        "  print(\"You're not eligible to vote\")"
      ],
      "metadata": {
        "colab": {
          "base_uri": "https://localhost:8080/"
        },
        "id": "iPQFq6cxUCCj",
        "outputId": "c3685e13-a8fe-4083-926b-0b2e5bcb71a1"
      },
      "execution_count": null,
      "outputs": [
        {
          "output_type": "stream",
          "name": "stdout",
          "text": [
            "Enter your age:7\n",
            "You're not eligible to vote\n"
          ]
        }
      ]
    },
    {
      "cell_type": "markdown",
      "source": [
        "### **IF-ELIF-ELSE**"
      ],
      "metadata": {
        "id": "rIt5ZdArUhzA"
      }
    },
    {
      "cell_type": "code",
      "source": [
        "x=int(input(\"Enter a number:\"))\n",
        "if x>0:\n",
        "  print(\"number is positive\")\n",
        "elif x<0:\n",
        "  print(\"number is negative\")\n",
        "else:\n",
        "  print(\"number is zero\")"
      ],
      "metadata": {
        "colab": {
          "base_uri": "https://localhost:8080/"
        },
        "id": "q-laaZF1Uhhl",
        "outputId": "fbaa1c97-674e-44cc-ee76-d930cc5386c6"
      },
      "execution_count": null,
      "outputs": [
        {
          "output_type": "stream",
          "name": "stdout",
          "text": [
            "Enter a number:-6\n",
            "number is negative\n"
          ]
        }
      ]
    },
    {
      "cell_type": "markdown",
      "source": [
        "## **Nested IFs**"
      ],
      "metadata": {
        "id": "tC_yi2QPYq9v"
      }
    },
    {
      "cell_type": "markdown",
      "source": [
        "## **Problems**"
      ],
      "metadata": {
        "id": "_WvFuVluWHYx"
      }
    },
    {
      "cell_type": "code",
      "source": [
        "#WAP to find the person is a child teenager adult or a senior citizen\n",
        "age=int(input(\"Enter your age:\"))\n",
        "if age>=0 and age<=12:\n",
        "  print(\"you're a child\")\n",
        "elif age>=13 and age<=19:\n",
        "  print(\"you're a teenager\")\n",
        "elif age>=20 and age<=59:\n",
        "  print(\"you're a adult\")\n",
        "else:\n",
        "  print(\"you're a senior citizen\")"
      ],
      "metadata": {
        "colab": {
          "base_uri": "https://localhost:8080/"
        },
        "id": "WCh-I1uIWQPk",
        "outputId": "67ac9969-7b3e-47ec-cf43-9ed1b7337bcc"
      },
      "execution_count": null,
      "outputs": [
        {
          "output_type": "stream",
          "name": "stdout",
          "text": [
            "Enter your age:56\n",
            "you're a adult\n"
          ]
        }
      ]
    },
    {
      "cell_type": "code",
      "source": [
        "#WAP to check if your name is lengthy (more than 10 characters)\n",
        "name=input(\"Enter name: \")\n",
        "if(len(name)>10):\n",
        "  print(\"name is lengthy\")\n",
        "else:\n",
        "  print(\"name is not lengthy\")\n"
      ],
      "metadata": {
        "colab": {
          "base_uri": "https://localhost:8080/"
        },
        "id": "y-4nigySY6JB",
        "outputId": "ed3997a8-261a-4f82-a348-d9e14283f98a"
      },
      "execution_count": null,
      "outputs": [
        {
          "output_type": "stream",
          "name": "stdout",
          "text": [
            "Enter name: Sreeshanth\n",
            "name is not lengthy\n"
          ]
        }
      ]
    },
    {
      "cell_type": "code",
      "source": [
        "#WAP to find if the time is AM or PM\n",
        "time=input(\"Enter time:\")\n",
        "hours=time.split(':')[0]\n",
        "mins=time.split(':')[1]\n",
        "if(int(hours)>=13 and int(hours)<=24):\n",
        "  newhours=int(hours)-12\n",
        "  print(\"Time is \",newhours,\":\",int(mins),\"PM\")\n",
        "elif(int(hours)<13):\n",
        "  newhours=int(hours)\n",
        "  print(\"Time is \",newhours,\":\",int(mins),\"AM\")\n",
        "else:\n",
        "  print(\"enter correct time\")"
      ],
      "metadata": {
        "colab": {
          "base_uri": "https://localhost:8080/"
        },
        "id": "Mo36byEvaxmG",
        "outputId": "31ff9141-587e-451a-e87a-2a6ca94567b0"
      },
      "execution_count": null,
      "outputs": [
        {
          "output_type": "stream",
          "name": "stdout",
          "text": [
            "Enter time:18:9\n",
            "Time is  6 : 9 PM\n"
          ]
        }
      ]
    },
    {
      "cell_type": "code",
      "source": [
        "#WAP to print string is palindrome or not\n",
        "string=input(\"Enter string:\")\n",
        "if (string==string[::-1]):\n",
        "  print(\"string is a palindrome\")\n",
        "else:\n",
        "  print(\"string is not a palindrome\")"
      ],
      "metadata": {
        "colab": {
          "base_uri": "https://localhost:8080/"
        },
        "id": "PFb_thi_hpN4",
        "outputId": "cd1669bc-32a1-474a-d4b7-400ae43291e1"
      },
      "execution_count": null,
      "outputs": [
        {
          "output_type": "stream",
          "name": "stdout",
          "text": [
            "Enter string:racecar\n",
            "string is a palindrome\n"
          ]
        }
      ]
    },
    {
      "cell_type": "code",
      "source": [
        "#WAP to check your favorite color is primary color(R/G/B) or not\n",
        "color=input(\"Enter color:\")\n",
        "if (color==\"red\" or color==\"Red\"or color==\"green\"or color==\"Green\"or color==\"blue\"or color==\"Blue\"):\n",
        "  print(\"Color is a primary color\")\n",
        "else:\n",
        "  print(\"Color is not a primary color\")"
      ],
      "metadata": {
        "colab": {
          "base_uri": "https://localhost:8080/"
        },
        "id": "nIC365XkipNu",
        "outputId": "ec8daf17-ad2a-42e2-d5f3-5577a935acaa"
      },
      "execution_count": null,
      "outputs": [
        {
          "output_type": "stream",
          "name": "stdout",
          "text": [
            "Enter color:pink\n",
            "Color is not a primary color\n"
          ]
        }
      ]
    },
    {
      "cell_type": "code",
      "source": [
        "#WAP to check whether a product has expired (6 months shelf life) or not based on MFD provided by the user in dd/mm/yyy format\n",
        "mfd=input(\"Enter manufactured date(dd/mm/yyyy):\")\n",
        "date=int(mfd.split(\"/\")[0])\n",
        "month=int(mfd.split(\"/\")[1])\n",
        "year=int(mfd.split(\"/\")[2])\n",
        "if(year<2025):\n",
        "  print(\"Product has expired\")\n",
        "elif(year==2025):\n",
        "  if(month<2):\n",
        "    print(\"Product has expired\")\n",
        "  else:\n",
        "      print(\"Product not expired\")\n",
        "else:\n",
        "  print(\"Product not expired\")\n",
        "\n"
      ],
      "metadata": {
        "colab": {
          "base_uri": "https://localhost:8080/"
        },
        "id": "w2vJcyj5jfxG",
        "outputId": "d6c82f72-7737-4342-e0e3-0d0c849af514"
      },
      "execution_count": null,
      "outputs": [
        {
          "output_type": "stream",
          "name": "stdout",
          "text": [
            "Enter manufactured date(dd/mm/yyyy):1/5/2025\n",
            "Product not expired\n"
          ]
        }
      ]
    },
    {
      "cell_type": "code",
      "source": [
        "#WAP to find the largest of 3 numbers\n",
        "num1=int(input(\"Enter first number:\"))\n",
        "num2=int(input(\"Enter second number:\"))\n",
        "num3=int(input(\"Enter third number:\"))\n",
        "if(num1>num2):\n",
        "  if num1>num3:\n",
        "    print(\"First number \",num1,\" is the largest\")\n",
        "  else:\n",
        "    print(\"Third number \",num3,\" is the largest\")\n",
        "elif(num2>num1):\n",
        "  if num2>num3:\n",
        "    print(\"First number \",num2,\" is the largest\")\n",
        "  else:\n",
        "    print(\"Third number \",num3,\" is the largest\")\n",
        "elif (num1==num2 and num3>num1):\n",
        "  print(\"Third number \",num3,\" is the largest\")\n",
        "elif( num1==num2 and num3<num1):\n",
        "  print(\"First number \",num1,\" and Second number \",num2, \" is the largest\")\n",
        "else:\n",
        "    print(\"First number Second number and Third number are all \",num1)\n",
        "\n",
        "\n"
      ],
      "metadata": {
        "colab": {
          "base_uri": "https://localhost:8080/"
        },
        "id": "93bZJncuyqvJ",
        "outputId": "81f91a12-20c9-4431-ef44-c37abf627538"
      },
      "execution_count": null,
      "outputs": [
        {
          "output_type": "stream",
          "name": "stdout",
          "text": [
            "Enter first number:2\n",
            "Enter second number:2\n",
            "Enter third number:2\n",
            "First number Second number and Third number are all  2\n"
          ]
        }
      ]
    },
    {
      "cell_type": "markdown",
      "source": [
        "**String Formatting**"
      ],
      "metadata": {
        "id": "eywTGg5d3qnv"
      }
    },
    {
      "cell_type": "code",
      "source": [
        "print('this is {} and this is {}'.format('a','b'))\n",
        "print('This is {1} and this is {0}'.format('1','2'))\n",
        "print(f'This is {\"s\"} and this is {7}')\n"
      ],
      "metadata": {
        "colab": {
          "base_uri": "https://localhost:8080/"
        },
        "id": "Ur2RDvfo3D5k",
        "outputId": "5d30058f-87d0-4b17-bd24-a803b7eb0cdc"
      },
      "execution_count": null,
      "outputs": [
        {
          "output_type": "stream",
          "name": "stdout",
          "text": [
            "this is a and this is b\n",
            "This is 2 and this is 1\n",
            "This is s and this is 7\n"
          ]
        }
      ]
    },
    {
      "cell_type": "code",
      "source": [
        "pi=3.14159625\n",
        "print(f'pi contain {pi:.1f}')\n",
        "print(f'pi contain {pi:.2f}')\n",
        "print(f'pi contain {pi:.3f}')\n",
        "print(f'pi contain {pi:.4f}')\n",
        "print(f'pi contain {pi:.5f}')"
      ],
      "metadata": {
        "colab": {
          "base_uri": "https://localhost:8080/"
        },
        "id": "W-ekUj6x5U6e",
        "outputId": "63582a4b-4c5b-46d1-d91b-67d096f46f5b"
      },
      "execution_count": null,
      "outputs": [
        {
          "output_type": "stream",
          "name": "stdout",
          "text": [
            "pi contain 3.1\n",
            "pi contain 3.14\n",
            "pi contain 3.142\n",
            "pi contain 3.1416\n",
            "pi contain 3.14160\n"
          ]
        }
      ]
    },
    {
      "cell_type": "markdown",
      "source": [
        "**Multivariable Assignment**"
      ],
      "metadata": {
        "id": "9ch3Soeo50z2"
      }
    },
    {
      "cell_type": "code",
      "source": [
        "name,age,location= 'nikhil',25,'Idukki'\n",
        "print(name)\n",
        "print(age)\n",
        "print(location)"
      ],
      "metadata": {
        "colab": {
          "base_uri": "https://localhost:8080/"
        },
        "id": "x94Ee9LG6CGp",
        "outputId": "c463693e-1efc-4972-a09e-6d5e933fc05b"
      },
      "execution_count": null,
      "outputs": [
        {
          "output_type": "stream",
          "name": "stdout",
          "text": [
            "nikhil\n",
            "25\n",
            "Idukki\n"
          ]
        }
      ]
    },
    {
      "cell_type": "code",
      "source": [
        "#WAP to print if the day is a holiday or not\n",
        "days={\"Monday\",\"Tuesday\",\"Wednesday\",\"Thursday\",\"Friday\",\"Saturday\",\"Sunday\"}\n",
        "day=input(\"Enter day:\")\n",
        "if day not in days:\n",
        "  print(\"Invalid day\")\n",
        "elif day=='Saturday' or day=='Sunday':\n",
        "  print(\"Holiday\")\n",
        "else:\n",
        "  print(\"Working day\")"
      ],
      "metadata": {
        "colab": {
          "base_uri": "https://localhost:8080/"
        },
        "id": "vSa3ZfzG6t57",
        "outputId": "4040e22e-83eb-401d-a77a-9315ac7f592f"
      },
      "execution_count": null,
      "outputs": [
        {
          "output_type": "stream",
          "name": "stdout",
          "text": [
            "Enter day:Saturday\n",
            "Holiday\n"
          ]
        }
      ]
    },
    {
      "cell_type": "markdown",
      "source": [
        "**Separator**"
      ],
      "metadata": {
        "id": "Z_X-GbGkA-nC"
      }
    },
    {
      "cell_type": "code",
      "source": [
        "print(\"Hello\",\"There\",sep='---')\n",
        "print('one')\n",
        "print('two',end=\"-\")\n",
        "print('three')"
      ],
      "metadata": {
        "colab": {
          "base_uri": "https://localhost:8080/"
        },
        "id": "1Uxo6M9kAyLy",
        "outputId": "e3f00acb-b3ee-4609-a7eb-ca9e019af8cf"
      },
      "execution_count": null,
      "outputs": [
        {
          "output_type": "stream",
          "name": "stdout",
          "text": [
            "Hello---There\n",
            "one\n",
            "two-three\n"
          ]
        }
      ]
    },
    {
      "cell_type": "markdown",
      "source": [
        "**Type Conversion and Casting**"
      ],
      "metadata": {
        "id": "UITwcvOu8zg-"
      }
    },
    {
      "cell_type": "code",
      "source": [
        "a = 54\n",
        "print(type(a))\n",
        "b = str (a)\n",
        "print(b,type(b))"
      ],
      "metadata": {
        "colab": {
          "base_uri": "https://localhost:8080/"
        },
        "id": "cWHwu4uFAu5c",
        "outputId": "d05654ec-42a0-4b8f-865c-0d6751e7430b"
      },
      "execution_count": null,
      "outputs": [
        {
          "output_type": "stream",
          "name": "stdout",
          "text": [
            "<class 'int'>\n",
            "54 <class 'str'>\n"
          ]
        }
      ]
    },
    {
      "cell_type": "code",
      "source": [
        "integer_1 = 3\n",
        "float_1 = 2.7\n",
        "string_1 = \"24\"\n",
        "list_1 = [1,2,3,4]\n",
        "tuple_1 = (1,2,3,4,5)\n"
      ],
      "metadata": {
        "id": "51S-omClAn47"
      },
      "execution_count": null,
      "outputs": []
    },
    {
      "cell_type": "code",
      "source": [
        "#int to string\n",
        "print(type(str(integer_1)))\n",
        "#int to float\n",
        "print(type(float(integer_1)))\n",
        "#string to int\n",
        "print(type(int(string_1)))\n",
        "#string to float\n",
        "print(type(float(string_1)))\n",
        "#float to string\n",
        "print(type(str(float_1)))\n",
        "#float to int\n",
        "print(type(int(float_1)))"
      ],
      "metadata": {
        "colab": {
          "base_uri": "https://localhost:8080/"
        },
        "id": "QIUaHNn38vCl",
        "outputId": "f696f6dc-b2fb-479f-a812-09375763096c"
      },
      "execution_count": null,
      "outputs": [
        {
          "output_type": "stream",
          "name": "stdout",
          "text": [
            "<class 'str'>\n",
            "<class 'float'>\n",
            "<class 'int'>\n",
            "<class 'float'>\n",
            "<class 'str'>\n",
            "<class 'int'>\n"
          ]
        }
      ]
    },
    {
      "cell_type": "code",
      "source": [
        "integer_2 = int(string_1)\n",
        "type(integer_2)"
      ],
      "metadata": {
        "id": "B6ZjhriABIam"
      },
      "execution_count": null,
      "outputs": []
    },
    {
      "cell_type": "markdown",
      "source": [
        "**Append Extend Remove Insert Reverse Sort Pop Clear**"
      ],
      "metadata": {
        "id": "FHq65GrbCxT9"
      }
    },
    {
      "cell_type": "code",
      "source": [
        "x = [1,2,3]\n",
        "x.append(4)\n",
        "print(x)\n",
        "\n",
        "x.extend([5,6,7])\n",
        "print(x)\n",
        "\n",
        "x.remove(2)\n",
        "print(x)\n",
        "\n",
        "x.insert(0, 10)\n",
        "print(x)\n",
        "\n",
        "x.reverse()\n",
        "print(x)\n",
        "\n",
        "x.sort()\n",
        "print(x)\n",
        "\n",
        "e = x.pop(0)\n",
        "print(e, x)\n",
        "\n",
        "x.clear()\n",
        "print(x)"
      ],
      "metadata": {
        "id": "tKwFbFGWCvq-",
        "outputId": "4f20e103-6be9-4310-bc70-74ef97f2221c",
        "colab": {
          "base_uri": "https://localhost:8080/"
        }
      },
      "execution_count": null,
      "outputs": [
        {
          "output_type": "stream",
          "name": "stdout",
          "text": [
            "[1, 2, 3, 4]\n",
            "[1, 2, 3, 4, 5, 6, 7]\n",
            "[1, 3, 4, 5, 6, 7]\n",
            "[10, 1, 3, 4, 5, 6, 7]\n",
            "[7, 6, 5, 4, 3, 1, 10]\n",
            "[1, 3, 4, 5, 6, 7, 10]\n",
            "1 [3, 4, 5, 6, 7, 10]\n",
            "[]\n"
          ]
        }
      ]
    },
    {
      "cell_type": "code",
      "source": [
        "#WAP to convert date format from dd/mm/yyyy to 1) mm-dd-yyyy  2) dd-mm-yyyy  3) yyyy-dd-mm\n",
        "date=input(\"Enter manufactured date(dd/mm/yyyy):\")\n",
        "day=int(date.split(\"/\")[0])\n",
        "month=int(date.split(\"/\")[1])\n",
        "year=int(date.split(\"/\")[2])\n",
        "print(f\"{month}-{day}-{year}\")\n",
        "print(f\"{day}-{month}-{year}\")\n",
        "print(f\"{year}|{day}|{month}\")\n"
      ],
      "metadata": {
        "colab": {
          "base_uri": "https://localhost:8080/"
        },
        "id": "sFpqWNwsDPZP",
        "outputId": "6a3d6908-19a5-4674-8a51-d61f7137b5dd"
      },
      "execution_count": null,
      "outputs": [
        {
          "output_type": "stream",
          "name": "stdout",
          "text": [
            "Enter manufactured date(dd/mm/yyyy):8/9/8\n",
            "9-8-8\n",
            "8-9-8\n",
            "8|8|9\n"
          ]
        }
      ]
    },
    {
      "cell_type": "code",
      "source": [
        "date=input(\"Enter manufactured date(dd/mm/yyyy):\")\n",
        "day=(date.split(\"/\")[0])\n",
        "month=(date.split(\"/\")[1])\n",
        "year=(date.split(\"/\")[2])\n",
        "print(('-').join([month,day,year]))\n",
        "print(('-').join([day,month,year]))\n",
        "print(('|').join([year,day,month]))\n",
        "\n",
        "#.join()  joining string values inside paranthesis with respective string."
      ],
      "metadata": {
        "colab": {
          "base_uri": "https://localhost:8080/"
        },
        "id": "gIRJvl7_FNyy",
        "outputId": "758e3b40-6509-4671-c640-de8d690e940a"
      },
      "execution_count": null,
      "outputs": [
        {
          "output_type": "stream",
          "name": "stdout",
          "text": [
            "Enter manufactured date(dd/mm/yyyy):05/06/2002\n",
            "06-05-2002\n",
            "05-06-2002\n",
            "2002|05|06\n"
          ]
        }
      ]
    }
  ]
}